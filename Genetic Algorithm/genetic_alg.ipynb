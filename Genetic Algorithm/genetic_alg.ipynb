{
  "cells": [
    {
      "cell_type": "code",
      "execution_count": 200,
      "metadata": {
        "id": "GPaE-F2qXkN3"
      },
      "outputs": [],
      "source": [
        "#prepare\n",
        "import numpy as np\n",
        "workers =12\n",
        "shifts = 3\n",
        "# Create a 3x21 matrix with at least one value that is not 3 in each column\n",
        "requests = np.random.randint(low=1, high=4, size=(workers, shifts*7))\n",
        "\n",
        "for i in range(shifts*7):\n",
        "    # If all the values in the current column are 3, assign a value of 1 or 2 to a random row\n",
        "    if np.all(requests[:, i] == 3):\n",
        "        requests[np.random.randint(0, workers), i] = np.random.randint(1, 3)\n",
        "\n"
      ]
    },
    {
      "cell_type": "code",
      "execution_count": 202,
      "metadata": {
        "colab": {
          "base_uri": "https://localhost:8080/"
        },
        "id": "3wMX3g3AbjsX",
        "outputId": "e4afcf81-b10a-416d-e3bb-9cab2201b2cd"
      },
      "outputs": [
        {
          "name": "stdout",
          "output_type": "stream",
          "text": [
            "[9, 4, 1, 9, 6, 1, 6, 10, 7, 3, 2, 4, 1, 8, 2, 7, 1, 6, 0, 7, 8]\n"
          ]
        }
      ],
      "source": [
        "import random\n",
        "\n",
        "parents = []\n",
        "childs = []\n",
        "\n",
        "#create random valid state\n",
        "def Create_random_state():\n",
        "  open = list(range(0,workers))\n",
        "  after_night = 0 \n",
        "  # state = np.random.randint(0, workers, size=shifts*7)\n",
        "  # לשים לב עשיתי מודולו 3 ממחשבה שיש 3 משמרות אם יש יותר צריך לחשוב מה החוקים במקרה כזה\n",
        "  state = []\n",
        "  for i in range(shifts*7):\n",
        "    if (i%3 == 0 and i != 0):\n",
        "      open = list(range(0,workers))\n",
        "      open.remove(after_night)\n",
        "    if(i%3 ==1 and i!= 1):\n",
        "      open.append(after_night)\n",
        "\n",
        "    rand_worker = random.choice(open)\n",
        "    state.append(rand_worker)\n",
        "    open.remove(rand_worker)\n",
        "    if(i%3 ==2):\n",
        "      after_night = rand_worker\n",
        "  return state\n",
        "\n",
        "\n",
        "\n",
        "\n",
        "\n",
        "#chack if two states are the same\n",
        "def Equal(state1 , state2):\n",
        "  for i in range(shifts*7):\n",
        "      if (state1[i] != state2[i]):\n",
        "        return False\n",
        "  return True\n",
        "\n",
        "#check if state list containts a state\n",
        "def check_contains_state(state , state_arr):\n",
        "  for s in state_arr:\n",
        "    if (Equal(s,state)):\n",
        "      return True\n",
        "  return False\n",
        "  \n",
        "a = Create_random_state()\n",
        "print (a)\n"
      ]
    },
    {
      "cell_type": "code",
      "execution_count": 203,
      "metadata": {
        "id": "HJqCCHZ3lU4Q"
      },
      "outputs": [],
      "source": [
        "#init \n",
        "#initialize list of 100 perent states\n",
        "def Init():\n",
        "  while (len(parents) <25000):\n",
        "    new_state = Create_random_state()\n",
        "    #if not check_contains_state(new_state, parents):\n",
        "    parents.append(new_state)\n",
        "\n",
        "\n",
        "Init()\n"
      ]
    },
    {
      "cell_type": "code",
      "execution_count": 204,
      "metadata": {
        "colab": {
          "base_uri": "https://localhost:8080/"
        },
        "id": "-NWDExk_zNJo",
        "outputId": "abe0e77c-da72-41e7-86d7-9e32accefb9a"
      },
      "outputs": [
        {
          "name": "stdout",
          "output_type": "stream",
          "text": [
            "[11, 0, 8, 7, 10, 6, 0, 6, 2, 0, 7, 3, 4, 8, 10, 9, 5, 8, 0, 6, 9]\n"
          ]
        }
      ],
      "source": [
        "try_state = parents[0]\n",
        "print (try_state)\n",
        "#delete later"
      ]
    },
    {
      "cell_type": "code",
      "execution_count": 205,
      "metadata": {
        "id": "YKoVypB2vt0Q"
      },
      "outputs": [],
      "source": [
        "# check if state is valid to constaaints\n",
        "def check_constraint(state):\n",
        "  for i in range(2,shifts*7-1,shifts):\n",
        "     if (state[i] == state[i+1]):\n",
        "       #print('morning night at ',i)\n",
        "       return False\n",
        "  for i in range (0,shifts*7,shifts):\n",
        "    if ((state[i]== state[i+1]) or (state[i]==state[i+2]) or (state[i+1] == state[i+2]) ):\n",
        "      #print('more then 1 shift\\day at',i)\n",
        "      return False\n",
        "  return True\n",
        "\n",
        "\n",
        "def fitness(state):\n",
        "  not_valid = 123456789\n",
        "  sum = 0\n",
        "  if (not check_constraint(state)):\n",
        "    return not_valid\n",
        "  for i in range(len(state)):\n",
        "    sum += requests[state[i]][i]\n",
        "  score = sum\n",
        "  return score\n"
      ]
    },
    {
      "cell_type": "code",
      "execution_count": 206,
      "metadata": {
        "colab": {
          "base_uri": "https://localhost:8080/"
        },
        "id": "fDsxwFArzXEw",
        "outputId": "486333a8-2c5c-49c4-d30e-8659eeb291a2"
      },
      "outputs": [
        {
          "name": "stdout",
          "output_type": "stream",
          "text": [
            "[11, 0, 8, 7, 10, 6, 0, 6, 2, 0, 7, 3, 4, 8, 10, 9, 5, 8, 0, 6, 9]\n",
            "True\n",
            "45\n"
          ]
        }
      ],
      "source": [
        "#delete later\n",
        "print(try_state)\n",
        "\n",
        "cc = check_constraint(try_state)\n",
        "print(cc)\n",
        "\n",
        "f = fitness(try_state)\n",
        "print(f)"
      ]
    },
    {
      "cell_type": "code",
      "execution_count": 207,
      "metadata": {
        "id": "d5hN2hoMgBGz"
      },
      "outputs": [],
      "source": [
        "#return 50% fittest states\n",
        "def select_half_fittest(states):\n",
        "  sorted_states = sorted(states, key=fitness)\n",
        "  half = len(states)//2\n",
        "  if (half %2 !=0):\n",
        "    half = half-1\n",
        "  fittest = sorted_states[:half]\n",
        "  return fittest\n",
        "\n",
        "#returns the fitness value of the fitest\n",
        "def fittest_in_group(states):\n",
        "  sorted = sorted(states, key=fitness)\n",
        "  return sorted[0]\n"
      ]
    },
    {
      "cell_type": "code",
      "execution_count": null,
      "metadata": {
        "id": "SgOFlDh77S9-"
      },
      "outputs": [],
      "source": []
    },
    {
      "cell_type": "code",
      "execution_count": 208,
      "metadata": {
        "id": "hrjHSBIt6EJl"
      },
      "outputs": [],
      "source": [
        "#create new generation from two parents\n",
        "def make_new_gen(state1,state2):\n",
        "  child = []\n",
        "  for i in range(shifts*7):\n",
        "    if (requests[state1[i]][i] < requests[state2[i]][i]):\n",
        "      child.append(state1[i])\n",
        "    else:\n",
        "      child.append(state2[i])\n",
        "  return child\n"
      ]
    },
    {
      "cell_type": "code",
      "execution_count": null,
      "metadata": {
        "id": "MWLVx7_rILQl"
      },
      "outputs": [],
      "source": []
    },
    {
      "cell_type": "code",
      "execution_count": 210,
      "metadata": {
        "id": "X_OeEepY15Ib"
      },
      "outputs": [],
      "source": [
        "def schedule(states):\n",
        "  better = True\n",
        "  gen0 = select_half_fittest(states)\n",
        "  print('Starting with', len(gen0), 'states')\n",
        "  \n",
        "  while better:\n",
        "    gen1 = []\n",
        "    better_counter = 0\n",
        "    while len(gen0) > 4:\n",
        "      parent1 = random.choice(gen0)\n",
        "      gen0.remove(parent1)\n",
        "      parent2 = random.choice(gen0)\n",
        "      gen0.remove(parent2)\n",
        "      child = make_new_gen(parent1, parent2)\n",
        "      gen1.append(child)\n",
        "      if fitness(child) < min(fitness(parent1), fitness(parent2)):\n",
        "        better_counter += 1\n",
        "    if (len(gen1)<=10):    \n",
        "      return gen1\n",
        "    gen0 = select_half_fittest(gen1)  \n",
        "\n",
        "    print('Generated', len(gen0), 'new states')\n",
        "  \n",
        "    if better_counter == 0 or len(gen0) == 1:\n",
        "      better = False\n",
        "      \n",
        "  return gen0\n",
        "\n",
        "\n",
        "\n",
        "\n",
        "\n",
        "\n"
      ]
    },
    {
      "cell_type": "code",
      "execution_count": 211,
      "metadata": {
        "colab": {
          "base_uri": "https://localhost:8080/"
        },
        "id": "raEEq2cMB2NC",
        "outputId": "e13d6abe-21f2-4fa2-9d7f-fa78a70f96c8"
      },
      "outputs": [
        {
          "name": "stdout",
          "output_type": "stream",
          "text": [
            "25000\n"
          ]
        }
      ],
      "source": [
        "print (len(parents))"
      ]
    },
    {
      "cell_type": "code",
      "execution_count": 212,
      "metadata": {
        "colab": {
          "base_uri": "https://localhost:8080/"
        },
        "id": "A-bR41RhB2MF",
        "outputId": "d421650c-c816-44c4-c395-3b3fcc3e6285"
      },
      "outputs": [
        {
          "name": "stdout",
          "output_type": "stream",
          "text": [
            "Starting with 12500 states\n",
            "Generated 3124 new states\n",
            "Generated 780 new states\n",
            "Generated 194 new states\n",
            "Generated 46 new states\n",
            "Generated 10 new states\n",
            "\n"
          ]
        }
      ],
      "source": [
        "\n",
        "child = schedule(parents)\n",
        "print()"
      ]
    },
    {
      "cell_type": "code",
      "execution_count": 213,
      "metadata": {
        "colab": {
          "base_uri": "https://localhost:8080/"
        },
        "id": "ONtOpsPN2jlD",
        "outputId": "df43f929-b2ba-433f-8674-cbb0891bbc14"
      },
      "outputs": [
        {
          "name": "stdout",
          "output_type": "stream",
          "text": [
            "[3, 11, 6, 11, 7, 2, 4, 5, 6, 2, 6, 4, 3, 0, 7, 8, 2, 10, 8, 0, 3] 21 \n",
            "\n",
            "[2, 11, 4, 7, 10, 4, 0, 5, 6, 10, 9, 0, 5, 0, 7, 6, 8, 10, 8, 9, 3] 21 \n",
            "\n",
            "[11, 7, 5, 7, 5, 2, 0, 5, 9, 10, 9, 4, 6, 0, 7, 6, 2, 10, 7, 0, 1] 21 \n",
            "\n",
            "3\n"
          ]
        }
      ],
      "source": [
        "for state in child:\n",
        "  print (state , fitness(state) , '\\n')\n",
        "\n",
        "print(len(child))"
      ]
    },
    {
      "cell_type": "code",
      "execution_count": 214,
      "metadata": {
        "colab": {
          "base_uri": "https://localhost:8080/"
        },
        "id": "YGZ4GNfq36xc",
        "outputId": "0a08c638-70de-4120-9ae3-c7eb8e48a722"
      },
      "outputs": [
        {
          "name": "stdout",
          "output_type": "stream",
          "text": [
            "[3, 11, 6, 11, 7, 2, 4, 5, 6, 2, 6, 4, 3, 0, 7, 8, 2, 10, 8, 0, 3] 21\n"
          ]
        }
      ],
      "source": [
        "sorted_childs = sorted(child, key=fitness)\n",
        "best_schedual = sorted_childs[0]\n",
        "print(best_schedual , fitness(best_schedual))"
      ]
    },
    {
      "cell_type": "code",
      "execution_count": 215,
      "metadata": {
        "colab": {
          "base_uri": "https://localhost:8080/"
        },
        "id": "RCcmZTlt75Ph",
        "outputId": "fd876da1-690d-4c4e-ad8c-9966a7e2e9f9"
      },
      "outputs": [
        {
          "data": {
            "text/plain": [
              "[[3, 11, 6, 11, 7, 2, 4, 5, 6, 2, 6, 4, 3, 0, 7, 8, 2, 10, 8, 0, 3],\n",
              " [2, 11, 4, 7, 10, 4, 0, 5, 6, 10, 9, 0, 5, 0, 7, 6, 8, 10, 8, 9, 3],\n",
              " [11, 7, 5, 7, 5, 2, 0, 5, 9, 10, 9, 4, 6, 0, 7, 6, 2, 10, 7, 0, 1]]"
            ]
          },
          "execution_count": 215,
          "metadata": {},
          "output_type": "execute_result"
        }
      ],
      "source": [
        "sorted_childs"
      ]
    },
    {
      "cell_type": "code",
      "execution_count": 216,
      "metadata": {
        "colab": {
          "base_uri": "https://localhost:8080/",
          "height": 241
        },
        "id": "XwI6dR-L41y7",
        "outputId": "379018fa-cdfa-4c5f-c16e-dcbe960a4608"
      },
      "outputs": [
        {
          "name": "stdout",
          "output_type": "stream",
          "text": [
            "scheduale fitness:  21 / optimal:  21\n",
            "\n",
            "\n"
          ]
        },
        {
          "data": {
            "text/html": [
              "<div>\n",
              "<style scoped>\n",
              "    .dataframe tbody tr th:only-of-type {\n",
              "        vertical-align: middle;\n",
              "    }\n",
              "\n",
              "    .dataframe tbody tr th {\n",
              "        vertical-align: top;\n",
              "    }\n",
              "\n",
              "    .dataframe thead th {\n",
              "        text-align: right;\n",
              "    }\n",
              "</style>\n",
              "<table border=\"1\" class=\"dataframe\">\n",
              "  <thead>\n",
              "    <tr style=\"text-align: right;\">\n",
              "      <th></th>\n",
              "      <th>Sunday morning</th>\n",
              "      <th>Sunday evening</th>\n",
              "      <th>Sunday night</th>\n",
              "      <th>Monday morning</th>\n",
              "      <th>Monday evening</th>\n",
              "      <th>Monday night</th>\n",
              "      <th>Tuesday morning</th>\n",
              "      <th>Tuesday evening</th>\n",
              "      <th>Tuesday night</th>\n",
              "      <th>Wednesday morning</th>\n",
              "      <th>...</th>\n",
              "      <th>Wednesday night</th>\n",
              "      <th>Thursday morning</th>\n",
              "      <th>Thursday evening</th>\n",
              "      <th>Thursday night</th>\n",
              "      <th>Friday morning</th>\n",
              "      <th>Friday evening</th>\n",
              "      <th>Friday night</th>\n",
              "      <th>Saturday morning</th>\n",
              "      <th>Saturday evening</th>\n",
              "      <th>Saturday night</th>\n",
              "    </tr>\n",
              "  </thead>\n",
              "  <tbody>\n",
              "    <tr>\n",
              "      <th>worker</th>\n",
              "      <td>3</td>\n",
              "      <td>11</td>\n",
              "      <td>6</td>\n",
              "      <td>11</td>\n",
              "      <td>7</td>\n",
              "      <td>2</td>\n",
              "      <td>4</td>\n",
              "      <td>5</td>\n",
              "      <td>6</td>\n",
              "      <td>2</td>\n",
              "      <td>...</td>\n",
              "      <td>4</td>\n",
              "      <td>3</td>\n",
              "      <td>0</td>\n",
              "      <td>7</td>\n",
              "      <td>8</td>\n",
              "      <td>2</td>\n",
              "      <td>10</td>\n",
              "      <td>8</td>\n",
              "      <td>0</td>\n",
              "      <td>3</td>\n",
              "    </tr>\n",
              "  </tbody>\n",
              "</table>\n",
              "<p>1 rows × 21 columns</p>\n",
              "</div>"
            ],
            "text/plain": [
              "        Sunday morning  Sunday evening  Sunday night  Monday morning  \\\n",
              "worker               3              11             6              11   \n",
              "\n",
              "        Monday evening  Monday night  Tuesday morning  Tuesday evening  \\\n",
              "worker               7             2                4                5   \n",
              "\n",
              "        Tuesday night  Wednesday morning  ...  Wednesday night  \\\n",
              "worker              6                  2  ...                4   \n",
              "\n",
              "        Thursday morning  Thursday evening  Thursday night  Friday morning  \\\n",
              "worker                 3                 0               7               8   \n",
              "\n",
              "        Friday evening  Friday night  Saturday morning  Saturday evening  \\\n",
              "worker               2            10                 8                 0   \n",
              "\n",
              "        Saturday night  \n",
              "worker               3  \n",
              "\n",
              "[1 rows x 21 columns]"
            ]
          },
          "execution_count": 216,
          "metadata": {},
          "output_type": "execute_result"
        }
      ],
      "source": [
        "# visualize \n",
        "import pandas as pd\n",
        "days = [ \"Sunday\",\"Monday\", \"Tuesday\", \"Wednesday\", \"Thursday\", \"Friday\", \"Saturday\"]\n",
        "shift_names = [\"morning\" , \"evening\" , \"night\"]\n",
        "day_shift = [d+' '+s for d in days  for s in shift_names ]\n",
        "vis = pd.DataFrame(best_schedual).T\n",
        "vis.columns = day_shift\n",
        "vis = vis.rename(index={0: \"worker\"})\n",
        "print('scheduale fitness: ' , fitness(best_schedual) ,\"/ optimal: \", shifts*7  )\n",
        "print(\"\\n\")\n",
        "vis"
      ]
    },
    {
      "cell_type": "code",
      "execution_count": 217,
      "metadata": {},
      "outputs": [],
      "source": [
        "import os\n",
        "\n",
        "def read_text_files(folder_path):\n",
        "    files = os.listdir(folder_path)\n",
        "    Allrequests = []\n",
        "\n",
        "    for file_name in files:\n",
        "        file_path = os.path.join(folder_path, file_name)\n",
        "        with open(file_path, 'r') as file:\n",
        "            content = file.read()\n",
        "            Allrequests.append(eval(content))\n",
        "\n",
        "    return Allrequests\n"
      ]
    },
    {
      "cell_type": "code",
      "execution_count": 218,
      "metadata": {},
      "outputs": [],
      "source": [
        "a = read_text_files(r\"C:\\Users\\rogov\\Desktop\\matan easy 4\")\n"
      ]
    },
    {
      "cell_type": "code",
      "execution_count": 219,
      "metadata": {},
      "outputs": [],
      "source": [
        "Init()\n",
        "tmp = parents"
      ]
    },
    {
      "cell_type": "code",
      "execution_count": 220,
      "metadata": {},
      "outputs": [
        {
          "name": "stdout",
          "output_type": "stream",
          "text": [
            "[[3, 3, 3, 3, 2, 3, 3, 2, 3, 3, 3, 2, 3, 3, 3, 1, 3, 1, 2, 3, 3], [3, 3, 3, 3, 1, 1, 3, 3, 3, 3, 2, 1, 3, 3, 3, 3, 3, 3, 3, 2, 1], [2, 1, 3, 3, 3, 2, 3, 1, 3, 3, 2, 2, 3, 1, 2, 2, 3, 2, 3, 3, 3], [3, 3, 2, 2, 3, 2, 1, 3, 3, 3, 3, 3, 3, 2, 3, 3, 3, 3, 3, 3, 3], [3, 2, 1, 3, 3, 3, 3, 3, 3, 2, 1, 3, 2, 3, 2, 2, 3, 1, 1, 3, 3], [3, 3, 3, 3, 2, 3, 3, 3, 3, 3, 3, 3, 3, 2, 3, 2, 3, 3, 3, 3, 2], [3, 3, 3, 3, 2, 3, 2, 2, 2, 3, 3, 3, 3, 3, 3, 3, 2, 3, 3, 3, 3], [1, 3, 2, 3, 3, 3, 3, 1, 3, 3, 3, 3, 3, 1, 2, 2, 1, 3, 2, 3, 3], [3, 1, 1, 3, 3, 3, 1, 3, 2, 3, 3, 1, 3, 3, 3, 2, 2, 3, 1, 3, 2], [3, 3, 3, 3, 3, 3, 2, 3, 2, 3, 3, 3, 3, 3, 3, 2, 3, 1, 1, 3, 3], [2, 3, 3, 3, 3, 2, 3, 3, 3, 3, 2, 3, 3, 3, 2, 3, 2, 2, 1, 3, 3], [1, 2, 1, 3, 3, 3, 2, 1, 3, 3, 3, 3, 3, 3, 2, 3, 2, 3, 2, 3, 3]]\n",
            "Starting with 12500 states\n",
            "Generated 3124 new states\n",
            "Generated 780 new states\n",
            "Generated 194 new states\n",
            "Generated 46 new states\n",
            "123456789\n",
            "[[3, 1, 2, 3, 3, 2, 3, 3, 3, 3, 2, 3, 3, 3, 2, 3, 3, 3, 2, 3, 2], [3, 1, 3, 2, 1, 1, 3, 3, 1, 3, 3, 3, 3, 2, 3, 2, 3, 3, 3, 1, 2], [3, 2, 3, 3, 1, 3, 3, 3, 3, 2, 3, 1, 3, 3, 3, 3, 3, 2, 2, 1, 3], [3, 3, 3, 3, 3, 3, 3, 3, 1, 3, 2, 3, 3, 1, 3, 1, 2, 3, 3, 1, 3], [3, 3, 1, 3, 3, 2, 3, 3, 3, 2, 3, 3, 3, 3, 3, 3, 3, 3, 1, 1, 3], [3, 3, 3, 2, 3, 3, 2, 3, 3, 3, 3, 1, 2, 3, 2, 3, 3, 2, 1, 3, 2], [3, 3, 3, 3, 3, 2, 3, 2, 3, 3, 3, 1, 3, 3, 2, 3, 3, 1, 3, 3, 3], [2, 3, 1, 3, 2, 3, 3, 3, 3, 2, 3, 3, 3, 2, 3, 3, 3, 3, 3, 3, 3], [3, 3, 1, 1, 3, 3, 3, 3, 3, 2, 3, 1, 3, 3, 3, 3, 3, 3, 3, 3, 3], [3, 3, 3, 3, 3, 3, 3, 3, 1, 2, 3, 3, 3, 3, 2, 1, 3, 3, 3, 3, 3], [1, 3, 3, 3, 3, 3, 2, 3, 3, 3, 1, 3, 1, 3, 3, 3, 3, 3, 3, 3, 3], [3, 2, 3, 2, 3, 3, 3, 3, 3, 3, 3, 3, 3, 3, 3, 2, 3, 3, 3, 2, 3]]\n",
            "Starting with 12500 states\n",
            "Generated 3124 new states\n",
            "Generated 780 new states\n",
            "Generated 194 new states\n",
            "Generated 46 new states\n",
            "Generated 10 new states\n",
            "27\n",
            "[[3, 3, 3, 3, 1, 2, 3, 3, 3, 3, 3, 3, 2, 3, 2, 2, 3, 3, 3, 3, 3], [3, 3, 1, 2, 3, 3, 3, 1, 3, 2, 3, 1, 3, 3, 3, 3, 2, 2, 3, 3, 1], [3, 3, 3, 2, 2, 2, 3, 3, 3, 3, 3, 3, 3, 3, 2, 3, 3, 3, 3, 3, 3], [1, 3, 2, 3, 3, 3, 3, 3, 3, 2, 3, 3, 3, 3, 3, 1, 3, 3, 3, 1, 3], [3, 3, 3, 2, 3, 3, 2, 3, 3, 3, 3, 3, 3, 3, 3, 3, 3, 3, 3, 3, 3], [2, 3, 2, 3, 1, 3, 3, 3, 3, 1, 3, 2, 3, 1, 3, 3, 3, 1, 3, 3, 3], [3, 3, 3, 3, 3, 3, 3, 2, 3, 1, 3, 3, 3, 3, 3, 2, 3, 3, 3, 3, 2], [2, 3, 3, 2, 3, 3, 3, 2, 3, 3, 3, 1, 3, 3, 3, 3, 3, 2, 3, 3, 3], [1, 3, 2, 3, 3, 2, 2, 3, 3, 2, 1, 3, 3, 3, 3, 3, 3, 2, 1, 3, 2], [3, 3, 3, 3, 2, 3, 3, 3, 2, 3, 3, 3, 3, 1, 3, 3, 3, 3, 3, 3, 3], [3, 2, 3, 3, 3, 3, 1, 3, 3, 3, 3, 2, 2, 3, 2, 3, 3, 3, 3, 3, 3], [3, 3, 3, 3, 2, 3, 3, 3, 2, 3, 3, 3, 3, 3, 3, 3, 1, 2, 3, 3, 2]]\n",
            "Starting with 12500 states\n",
            "Generated 3124 new states\n",
            "Generated 780 new states\n",
            "Generated 194 new states\n",
            "Generated 46 new states\n",
            "Generated 10 new states\n",
            "27\n",
            "[[3, 3, 3, 3, 2, 3, 3, 2, 3, 1, 2, 3, 3, 2, 1, 3, 3, 3, 3, 3, 3], [1, 3, 3, 3, 3, 3, 3, 1, 3, 3, 3, 3, 3, 2, 3, 3, 2, 2, 3, 3, 2], [3, 2, 3, 3, 2, 3, 3, 3, 2, 3, 2, 3, 3, 3, 1, 2, 3, 3, 3, 2, 2], [1, 3, 3, 3, 3, 3, 3, 2, 2, 2, 3, 3, 3, 2, 3, 3, 2, 3, 3, 3, 3], [3, 3, 3, 3, 3, 3, 3, 2, 2, 3, 3, 3, 1, 3, 3, 3, 1, 2, 1, 3, 3], [3, 3, 3, 3, 2, 2, 3, 3, 3, 3, 3, 3, 3, 3, 3, 3, 1, 3, 2, 2, 3], [3, 3, 3, 3, 3, 3, 3, 3, 2, 3, 3, 2, 3, 3, 3, 3, 3, 3, 3, 3, 3], [3, 1, 3, 1, 2, 1, 2, 3, 3, 3, 3, 2, 3, 3, 3, 3, 1, 3, 3, 3, 1], [3, 2, 2, 3, 3, 2, 1, 3, 3, 1, 3, 3, 1, 3, 3, 3, 3, 3, 3, 3, 3], [2, 3, 3, 2, 2, 3, 3, 2, 3, 3, 3, 3, 3, 3, 3, 3, 3, 3, 3, 2, 3], [3, 3, 2, 3, 3, 3, 3, 3, 2, 2, 2, 3, 3, 3, 3, 3, 3, 3, 3, 3, 3], [3, 2, 3, 3, 3, 3, 3, 3, 2, 3, 3, 3, 3, 3, 3, 3, 3, 3, 3, 2, 3]]\n",
            "Starting with 12500 states\n",
            "Generated 3124 new states\n",
            "Generated 780 new states\n",
            "Generated 194 new states\n",
            "Generated 46 new states\n",
            "Generated 10 new states\n",
            "123456789\n",
            "[[2, 3, 2, 3, 3, 3, 3, 3, 2, 3, 3, 3, 1, 3, 3, 2, 2, 3, 1, 3, 2], [2, 3, 3, 3, 1, 3, 3, 3, 3, 3, 3, 2, 3, 3, 3, 1, 3, 3, 3, 3, 3], [3, 3, 3, 2, 3, 2, 3, 3, 2, 3, 3, 3, 3, 1, 3, 3, 3, 3, 1, 3, 3], [3, 3, 2, 1, 3, 2, 3, 2, 3, 2, 2, 3, 3, 3, 3, 3, 2, 3, 2, 2, 3], [2, 3, 3, 3, 3, 3, 1, 3, 3, 1, 3, 3, 2, 3, 3, 3, 2, 1, 3, 3, 3], [3, 3, 3, 3, 2, 2, 3, 3, 3, 2, 3, 3, 1, 3, 3, 3, 2, 3, 3, 3, 3], [3, 2, 3, 3, 2, 2, 2, 2, 3, 2, 2, 3, 3, 3, 3, 3, 3, 3, 1, 1, 1], [3, 3, 3, 3, 1, 3, 3, 3, 1, 3, 3, 3, 1, 3, 3, 3, 3, 3, 1, 3, 2], [3, 3, 3, 1, 2, 3, 3, 3, 3, 3, 3, 3, 3, 3, 2, 3, 3, 2, 3, 3, 3], [3, 3, 2, 3, 3, 3, 3, 3, 3, 3, 1, 3, 3, 3, 3, 2, 3, 3, 3, 3, 3], [3, 3, 1, 3, 3, 2, 1, 3, 3, 3, 3, 2, 3, 3, 1, 2, 3, 2, 2, 2, 3], [3, 1, 3, 3, 3, 1, 2, 3, 2, 3, 3, 3, 3, 3, 3, 2, 2, 3, 3, 3, 3]]\n",
            "Starting with 12500 states\n",
            "Generated 3124 new states\n",
            "Generated 780 new states\n",
            "Generated 194 new states\n",
            "Generated 46 new states\n",
            "Generated 10 new states\n",
            "26\n",
            "[[3, 3, 3, 3, 3, 3, 3, 3, 3, 3, 2, 3, 3, 3, 1, 3, 3, 3, 3, 3, 3], [3, 2, 3, 3, 3, 3, 2, 3, 2, 3, 3, 2, 3, 1, 3, 3, 3, 2, 1, 3, 1], [3, 3, 3, 3, 3, 2, 3, 2, 3, 3, 3, 3, 3, 2, 3, 1, 2, 3, 3, 2, 3], [3, 3, 3, 3, 3, 3, 3, 3, 3, 2, 3, 3, 3, 3, 2, 3, 3, 1, 3, 3, 3], [3, 3, 3, 2, 1, 3, 1, 2, 3, 3, 1, 2, 3, 2, 3, 3, 3, 1, 2, 1, 3], [3, 3, 2, 3, 3, 3, 2, 2, 3, 3, 3, 3, 2, 3, 3, 3, 2, 3, 1, 3, 3], [2, 3, 3, 2, 3, 2, 3, 3, 3, 3, 2, 3, 1, 2, 3, 3, 3, 3, 1, 3, 3], [1, 2, 3, 3, 2, 3, 3, 1, 1, 3, 2, 3, 2, 3, 2, 3, 3, 3, 3, 3, 3], [2, 3, 2, 1, 2, 3, 1, 2, 3, 2, 1, 3, 3, 2, 3, 1, 3, 3, 3, 3, 3], [2, 3, 1, 3, 3, 3, 3, 2, 1, 3, 3, 2, 3, 3, 3, 3, 3, 2, 3, 3, 3], [3, 3, 2, 3, 3, 3, 3, 3, 1, 3, 3, 3, 3, 3, 3, 2, 1, 2, 2, 3, 1], [3, 2, 3, 3, 3, 2, 3, 3, 3, 3, 3, 2, 1, 3, 2, 3, 1, 3, 3, 3, 3]]\n",
            "Starting with 12500 states\n",
            "Generated 3124 new states\n",
            "Generated 780 new states\n",
            "Generated 194 new states\n",
            "Generated 46 new states\n",
            "Generated 10 new states\n",
            "25\n",
            "[[3, 1, 3, 3, 3, 3, 3, 3, 3, 3, 3, 3, 3, 3, 3, 3, 3, 2, 3, 2, 3], [2, 3, 3, 3, 3, 2, 1, 3, 1, 2, 1, 1, 3, 2, 3, 3, 3, 3, 2, 1, 3], [2, 3, 3, 1, 3, 3, 3, 3, 2, 2, 2, 3, 3, 2, 3, 2, 3, 3, 3, 3, 3], [3, 3, 3, 3, 3, 3, 3, 1, 3, 3, 3, 2, 3, 1, 1, 2, 3, 3, 3, 3, 2], [3, 3, 3, 3, 3, 2, 3, 3, 3, 2, 3, 2, 1, 3, 2, 3, 3, 3, 3, 2, 2], [3, 3, 3, 3, 3, 1, 3, 2, 2, 3, 3, 3, 3, 3, 3, 3, 1, 3, 2, 1, 3], [3, 2, 3, 3, 3, 3, 3, 3, 2, 3, 2, 2, 3, 1, 2, 2, 2, 3, 1, 1, 3], [3, 3, 3, 3, 2, 3, 3, 3, 3, 3, 1, 1, 3, 2, 3, 1, 3, 3, 3, 3, 3], [1, 3, 3, 2, 3, 3, 3, 3, 3, 3, 2, 1, 1, 2, 3, 3, 1, 3, 2, 1, 3], [3, 3, 2, 1, 1, 3, 3, 2, 3, 3, 3, 3, 3, 3, 3, 2, 3, 3, 3, 3, 2], [3, 3, 3, 1, 3, 3, 3, 2, 3, 3, 2, 3, 3, 2, 1, 3, 2, 3, 3, 3, 3], [1, 3, 3, 3, 3, 3, 3, 3, 3, 3, 3, 3, 3, 3, 3, 2, 1, 3, 1, 3, 3]]\n",
            "Starting with 12500 states\n",
            "Generated 3124 new states\n",
            "Generated 780 new states\n",
            "Generated 194 new states\n",
            "Generated 46 new states\n",
            "Generated 10 new states\n",
            "123456789\n",
            "[[3, 3, 3, 2, 3, 3, 3, 2, 3, 3, 3, 3, 3, 3, 3, 1, 3, 3, 2, 2, 1], [1, 2, 1, 3, 3, 2, 3, 2, 3, 3, 3, 3, 2, 3, 3, 3, 3, 3, 3, 3, 3], [3, 1, 3, 3, 3, 2, 3, 3, 3, 2, 3, 3, 3, 3, 1, 3, 3, 3, 3, 3, 3], [3, 3, 3, 3, 3, 2, 3, 2, 1, 2, 2, 3, 2, 3, 2, 3, 3, 3, 1, 3, 3], [1, 3, 3, 1, 2, 3, 3, 2, 2, 3, 2, 3, 3, 3, 3, 3, 1, 3, 3, 2, 3], [3, 3, 3, 3, 3, 2, 3, 2, 3, 3, 3, 3, 3, 3, 1, 3, 3, 3, 3, 3, 1], [3, 2, 3, 2, 3, 3, 3, 3, 3, 2, 2, 3, 1, 1, 3, 2, 3, 3, 3, 2, 3], [3, 3, 3, 3, 3, 3, 3, 3, 2, 3, 3, 3, 3, 2, 3, 3, 3, 3, 3, 3, 2], [1, 3, 3, 2, 2, 2, 3, 3, 3, 3, 3, 3, 2, 2, 3, 2, 3, 3, 1, 3, 2], [3, 3, 3, 2, 3, 3, 3, 3, 3, 2, 1, 3, 3, 3, 3, 2, 3, 2, 3, 2, 1], [3, 3, 3, 3, 3, 3, 3, 3, 2, 3, 3, 3, 1, 3, 3, 3, 2, 3, 3, 3, 1], [3, 3, 3, 3, 3, 3, 2, 2, 3, 3, 3, 3, 2, 3, 3, 2, 2, 2, 3, 3, 2]]\n",
            "Starting with 12500 states\n",
            "Generated 3124 new states\n",
            "Generated 780 new states\n",
            "Generated 194 new states\n",
            "Generated 46 new states\n",
            "Generated 10 new states\n",
            "30\n",
            "[[2, 3, 1, 2, 3, 3, 3, 3, 2, 3, 3, 3, 3, 1, 3, 3, 1, 3, 2, 3, 3], [3, 3, 3, 3, 2, 2, 3, 1, 3, 3, 3, 2, 2, 3, 3, 3, 3, 2, 3, 1, 3], [3, 1, 2, 3, 2, 3, 3, 2, 2, 3, 2, 3, 3, 3, 3, 3, 3, 3, 3, 2, 3], [3, 2, 2, 3, 3, 3, 3, 1, 3, 3, 3, 3, 3, 3, 3, 3, 3, 3, 3, 1, 3], [3, 3, 2, 3, 3, 3, 3, 3, 1, 3, 1, 3, 1, 1, 3, 3, 3, 3, 3, 1, 1], [3, 1, 3, 3, 3, 3, 2, 3, 3, 3, 2, 2, 3, 1, 3, 3, 1, 3, 2, 3, 2], [3, 1, 3, 3, 3, 3, 3, 3, 2, 3, 2, 1, 3, 3, 3, 3, 3, 3, 3, 2, 1], [2, 1, 3, 3, 2, 3, 3, 3, 3, 3, 3, 1, 3, 3, 1, 2, 3, 2, 2, 3, 2], [3, 1, 3, 1, 3, 3, 3, 3, 2, 2, 3, 3, 1, 1, 3, 3, 2, 3, 3, 3, 3], [3, 3, 3, 3, 3, 3, 3, 2, 3, 2, 3, 3, 3, 3, 3, 3, 3, 3, 3, 3, 3], [3, 3, 3, 3, 3, 2, 1, 3, 3, 3, 2, 3, 3, 3, 3, 2, 2, 1, 3, 3, 2], [2, 3, 2, 3, 3, 2, 3, 3, 3, 1, 2, 3, 1, 1, 3, 2, 3, 3, 2, 3, 3]]\n",
            "Starting with 12500 states\n",
            "Generated 3124 new states\n",
            "Generated 780 new states\n",
            "Generated 194 new states\n",
            "Generated 46 new states\n",
            "Generated 10 new states\n",
            "26\n",
            "[[3, 2, 3, 3, 1, 2, 3, 3, 3, 3, 3, 3, 3, 2, 3, 3, 3, 2, 3, 2, 2], [2, 3, 3, 3, 3, 3, 1, 3, 2, 3, 2, 3, 2, 3, 3, 3, 3, 3, 3, 1, 3], [2, 2, 1, 3, 3, 3, 3, 3, 3, 1, 3, 3, 3, 3, 3, 2, 2, 3, 3, 3, 3], [3, 2, 3, 1, 3, 2, 3, 3, 3, 3, 3, 2, 3, 1, 3, 2, 2, 3, 2, 3, 3], [3, 3, 3, 3, 3, 3, 3, 3, 3, 1, 2, 2, 3, 3, 3, 3, 3, 2, 2, 2, 1], [3, 3, 2, 3, 2, 3, 3, 3, 3, 3, 3, 3, 3, 3, 3, 1, 3, 2, 3, 2, 3], [3, 3, 3, 3, 1, 2, 3, 3, 3, 3, 1, 2, 3, 3, 3, 2, 3, 3, 2, 3, 3], [3, 2, 3, 3, 3, 1, 3, 3, 3, 3, 3, 3, 2, 3, 3, 3, 3, 1, 2, 2, 2], [3, 2, 2, 2, 1, 1, 2, 3, 3, 3, 3, 3, 3, 2, 3, 3, 2, 3, 2, 2, 1], [3, 3, 3, 2, 3, 3, 3, 3, 3, 2, 3, 3, 3, 3, 2, 3, 3, 3, 1, 2, 3], [3, 1, 3, 3, 3, 3, 1, 3, 3, 3, 3, 3, 2, 3, 3, 3, 2, 3, 2, 3, 2], [2, 3, 3, 2, 2, 3, 3, 2, 3, 3, 2, 1, 2, 3, 3, 3, 3, 2, 1, 3, 3]]\n",
            "Starting with 12500 states\n",
            "Generated 3124 new states\n",
            "Generated 780 new states\n",
            "Generated 194 new states\n",
            "Generated 46 new states\n",
            "Generated 10 new states\n",
            "27\n",
            "[[3, 3, 3, 1, 1, 3, 3, 3, 2, 3, 3, 3, 3, 3, 3, 2, 3, 3, 3, 2, 3], [3, 2, 3, 3, 3, 3, 3, 3, 2, 3, 3, 3, 3, 3, 3, 2, 2, 2, 1, 3, 3], [3, 2, 3, 2, 3, 2, 3, 3, 3, 1, 1, 3, 2, 3, 2, 3, 2, 3, 3, 2, 3], [1, 2, 3, 3, 3, 3, 2, 3, 3, 3, 3, 3, 3, 3, 1, 2, 3, 3, 3, 3, 3], [3, 3, 3, 3, 3, 3, 3, 3, 3, 3, 3, 3, 3, 3, 3, 1, 3, 2, 3, 3, 3], [2, 3, 3, 1, 3, 3, 1, 3, 3, 1, 3, 3, 3, 3, 3, 2, 3, 2, 3, 3, 3], [3, 1, 3, 1, 3, 2, 1, 2, 3, 3, 1, 2, 3, 1, 2, 3, 3, 1, 2, 2, 3], [2, 3, 3, 1, 3, 3, 3, 3, 3, 1, 3, 3, 3, 3, 3, 3, 1, 3, 3, 3, 2], [3, 3, 3, 2, 1, 3, 3, 2, 1, 1, 3, 3, 3, 3, 3, 2, 1, 1, 3, 3, 3], [2, 3, 3, 3, 3, 3, 3, 3, 3, 3, 3, 3, 3, 3, 3, 3, 3, 3, 1, 1, 3], [3, 3, 1, 3, 3, 1, 3, 3, 3, 3, 2, 3, 3, 3, 2, 3, 3, 3, 2, 3, 2], [3, 3, 2, 3, 3, 3, 3, 3, 3, 2, 3, 3, 3, 2, 3, 2, 3, 3, 3, 1, 2]]\n",
            "Starting with 12500 states\n",
            "Generated 3124 new states\n",
            "Generated 780 new states\n",
            "Generated 194 new states\n",
            "Generated 46 new states\n",
            "Generated 10 new states\n",
            "25\n",
            "[[3, 3, 3, 3, 2, 3, 3, 2, 3, 1, 3, 1, 3, 1, 1, 2, 3, 3, 2, 3, 3], [1, 3, 1, 3, 3, 3, 1, 3, 3, 3, 3, 2, 3, 3, 2, 3, 3, 3, 3, 2, 3], [3, 3, 2, 2, 3, 1, 3, 2, 3, 2, 2, 3, 1, 3, 3, 3, 3, 3, 1, 3, 3], [3, 2, 2, 3, 3, 3, 3, 3, 2, 3, 3, 1, 3, 2, 2, 3, 3, 3, 3, 3, 3], [3, 3, 1, 3, 3, 3, 3, 3, 3, 1, 3, 3, 3, 2, 3, 3, 3, 1, 3, 3, 3], [3, 3, 3, 3, 2, 3, 3, 1, 3, 2, 3, 3, 3, 3, 3, 2, 3, 3, 3, 3, 1], [3, 3, 3, 2, 3, 3, 3, 3, 3, 3, 1, 3, 1, 1, 1, 2, 3, 3, 2, 3, 3], [1, 3, 3, 3, 3, 3, 3, 3, 3, 3, 1, 2, 3, 3, 2, 3, 3, 3, 3, 3, 1], [3, 3, 3, 3, 3, 2, 3, 3, 3, 1, 3, 3, 3, 3, 3, 1, 2, 3, 2, 3, 3], [1, 3, 3, 3, 3, 2, 3, 3, 2, 3, 3, 2, 3, 3, 2, 1, 1, 3, 3, 3, 3], [2, 3, 3, 3, 3, 3, 3, 3, 2, 2, 3, 3, 3, 3, 3, 3, 2, 2, 2, 3, 2], [3, 3, 3, 2, 3, 1, 2, 3, 2, 3, 3, 2, 3, 3, 3, 3, 3, 3, 3, 2, 3]]\n",
            "Starting with 12500 states\n",
            "Generated 3124 new states\n",
            "Generated 780 new states\n",
            "Generated 194 new states\n",
            "Generated 46 new states\n",
            "Generated 10 new states\n",
            "26\n",
            "[[3, 1, 3, 2, 3, 3, 3, 3, 3, 3, 3, 3, 3, 2, 3, 3, 3, 3, 2, 3, 3], [3, 3, 3, 3, 2, 3, 2, 1, 3, 3, 3, 3, 3, 2, 3, 3, 3, 2, 3, 3, 3], [2, 3, 3, 3, 2, 2, 2, 3, 2, 2, 3, 2, 2, 2, 3, 3, 3, 3, 3, 3, 3], [3, 3, 1, 3, 3, 1, 1, 3, 3, 3, 2, 2, 2, 3, 3, 3, 3, 3, 3, 3, 3], [3, 3, 3, 3, 3, 2, 3, 3, 3, 3, 1, 3, 1, 3, 3, 3, 2, 3, 2, 2, 3], [3, 3, 3, 3, 1, 3, 3, 3, 3, 3, 2, 3, 1, 1, 3, 3, 2, 3, 3, 1, 3], [2, 3, 2, 3, 1, 3, 1, 3, 3, 3, 3, 3, 3, 3, 1, 1, 3, 2, 3, 3, 2], [3, 3, 3, 3, 1, 3, 3, 2, 3, 3, 2, 1, 3, 3, 3, 2, 1, 3, 3, 3, 3], [3, 3, 3, 3, 1, 2, 3, 3, 3, 2, 3, 3, 3, 3, 3, 3, 1, 1, 3, 2, 3], [3, 3, 2, 3, 3, 3, 3, 3, 3, 2, 3, 3, 3, 3, 3, 2, 2, 3, 3, 3, 3], [3, 3, 3, 2, 3, 1, 2, 3, 1, 3, 3, 3, 3, 3, 3, 3, 3, 3, 3, 3, 3], [1, 3, 3, 1, 3, 3, 3, 1, 3, 1, 1, 2, 3, 3, 3, 3, 3, 3, 3, 3, 3]]\n",
            "Starting with 12500 states\n",
            "Generated 3124 new states\n",
            "Generated 780 new states\n",
            "Generated 194 new states\n",
            "Generated 46 new states\n",
            "Generated 10 new states\n",
            "123456789\n",
            "[[3, 2, 3, 3, 3, 3, 3, 3, 3, 3, 2, 3, 3, 3, 3, 3, 2, 3, 3, 3, 1], [3, 3, 3, 1, 3, 3, 2, 3, 3, 2, 3, 2, 3, 1, 2, 3, 3, 3, 3, 3, 1], [3, 3, 3, 3, 3, 3, 1, 3, 3, 3, 3, 3, 3, 3, 3, 3, 2, 3, 3, 3, 1], [3, 2, 3, 3, 1, 3, 3, 2, 3, 3, 3, 2, 1, 3, 3, 3, 3, 3, 2, 2, 3], [3, 3, 3, 3, 2, 2, 3, 2, 2, 2, 3, 3, 3, 1, 3, 3, 3, 3, 2, 3, 3], [2, 3, 3, 2, 3, 1, 3, 3, 3, 3, 3, 2, 3, 3, 2, 2, 3, 3, 2, 1, 1], [3, 3, 1, 2, 1, 3, 1, 2, 3, 3, 3, 3, 1, 3, 2, 3, 3, 3, 2, 3, 2], [3, 2, 3, 3, 3, 2, 3, 2, 1, 1, 1, 3, 3, 3, 2, 3, 1, 2, 3, 3, 3], [2, 3, 3, 3, 3, 2, 1, 3, 3, 3, 1, 1, 3, 2, 2, 3, 3, 3, 3, 3, 3], [3, 3, 3, 3, 3, 2, 3, 3, 3, 3, 3, 2, 3, 2, 2, 1, 2, 3, 1, 3, 3], [3, 2, 1, 2, 3, 2, 1, 3, 3, 3, 3, 2, 3, 3, 2, 3, 1, 3, 3, 2, 3], [3, 2, 2, 3, 2, 3, 1, 3, 2, 2, 3, 2, 2, 3, 3, 3, 2, 1, 3, 3, 3]]\n",
            "Starting with 12500 states\n",
            "Generated 3124 new states\n",
            "Generated 780 new states\n",
            "Generated 194 new states\n",
            "Generated 46 new states\n",
            "Generated 10 new states\n",
            "26\n",
            "[[3, 3, 3, 3, 2, 1, 3, 3, 3, 2, 3, 2, 3, 2, 1, 3, 3, 3, 1, 2, 1], [3, 3, 3, 3, 2, 3, 3, 3, 3, 2, 2, 3, 3, 3, 1, 3, 3, 3, 3, 2, 3], [3, 3, 3, 3, 3, 3, 3, 2, 3, 3, 3, 3, 1, 1, 3, 3, 3, 3, 3, 3, 3], [3, 1, 3, 3, 3, 2, 1, 3, 3, 3, 2, 3, 3, 3, 2, 3, 3, 3, 3, 1, 3], [3, 3, 2, 1, 3, 3, 2, 2, 1, 3, 3, 3, 3, 3, 3, 3, 3, 3, 3, 3, 3], [3, 2, 3, 3, 3, 3, 3, 3, 1, 3, 3, 3, 2, 3, 3, 3, 3, 3, 3, 3, 3], [3, 3, 3, 2, 1, 3, 3, 1, 3, 3, 3, 2, 1, 1, 2, 3, 2, 2, 2, 3, 3], [1, 3, 3, 2, 3, 1, 1, 3, 3, 3, 3, 1, 2, 1, 2, 3, 3, 3, 3, 3, 3], [2, 3, 1, 3, 2, 3, 3, 3, 2, 3, 2, 2, 1, 3, 3, 3, 2, 3, 3, 2, 1], [3, 2, 3, 1, 3, 3, 3, 3, 3, 3, 3, 2, 3, 3, 3, 3, 3, 2, 3, 3, 2], [2, 2, 3, 3, 1, 2, 3, 3, 3, 3, 1, 1, 3, 3, 3, 3, 2, 2, 3, 3, 2], [3, 3, 3, 3, 3, 3, 3, 2, 3, 3, 3, 3, 3, 2, 3, 2, 2, 3, 3, 2, 3]]\n",
            "Starting with 12500 states\n",
            "Generated 3124 new states\n",
            "Generated 780 new states\n",
            "Generated 194 new states\n",
            "Generated 46 new states\n",
            "Generated 10 new states\n",
            "25\n",
            "[[1, 3, 3, 3, 3, 2, 3, 2, 3, 3, 3, 3, 3, 3, 3, 3, 3, 3, 3, 3, 3], [3, 3, 3, 3, 3, 3, 1, 3, 2, 3, 3, 3, 3, 3, 1, 3, 3, 3, 3, 2, 3], [3, 2, 3, 3, 3, 3, 3, 3, 1, 1, 2, 3, 3, 2, 3, 3, 2, 3, 2, 3, 3], [3, 1, 3, 2, 3, 2, 3, 2, 3, 3, 3, 1, 3, 1, 3, 1, 3, 3, 2, 3, 3], [2, 3, 3, 3, 3, 2, 3, 3, 3, 3, 3, 3, 1, 3, 2, 3, 3, 3, 3, 3, 3], [3, 2, 3, 2, 3, 1, 3, 3, 2, 2, 3, 3, 1, 2, 3, 3, 3, 2, 3, 3, 3], [3, 3, 3, 2, 3, 3, 3, 2, 3, 2, 3, 3, 1, 3, 2, 2, 1, 3, 2, 3, 1], [3, 3, 3, 3, 1, 3, 3, 3, 3, 2, 3, 2, 3, 3, 3, 3, 1, 3, 3, 2, 3], [3, 1, 1, 3, 3, 3, 2, 2, 3, 3, 3, 3, 2, 3, 2, 1, 3, 3, 2, 1, 3], [3, 1, 3, 3, 1, 1, 3, 2, 1, 3, 3, 2, 3, 3, 3, 3, 3, 1, 3, 3, 2], [3, 3, 3, 2, 3, 2, 1, 3, 3, 2, 3, 2, 3, 3, 1, 3, 1, 3, 3, 2, 3], [3, 3, 1, 3, 3, 3, 3, 3, 3, 3, 3, 3, 3, 2, 2, 3, 3, 3, 3, 3, 3]]\n",
            "Starting with 12500 states\n",
            "Generated 3124 new states\n",
            "Generated 780 new states\n",
            "Generated 194 new states\n",
            "Generated 46 new states\n",
            "Generated 10 new states\n",
            "123456789\n",
            "[[3, 2, 3, 2, 3, 2, 3, 2, 3, 3, 2, 3, 3, 3, 2, 3, 1, 3, 3, 3, 3], [3, 3, 3, 2, 3, 3, 3, 2, 1, 3, 3, 2, 3, 3, 3, 3, 3, 3, 3, 3, 3], [1, 3, 2, 3, 3, 3, 1, 3, 3, 2, 3, 3, 3, 3, 3, 3, 3, 3, 3, 3, 1], [3, 1, 3, 3, 2, 3, 3, 3, 3, 3, 2, 3, 3, 3, 3, 2, 3, 3, 3, 3, 3], [2, 2, 1, 3, 3, 3, 2, 3, 3, 3, 2, 3, 3, 3, 3, 3, 3, 2, 3, 3, 3], [3, 2, 3, 3, 2, 3, 3, 2, 3, 3, 3, 3, 3, 2, 3, 3, 3, 3, 3, 2, 3], [3, 2, 3, 2, 3, 2, 3, 3, 3, 2, 3, 2, 3, 3, 3, 3, 3, 3, 3, 2, 3], [2, 3, 3, 1, 3, 3, 2, 3, 3, 3, 3, 3, 2, 3, 3, 3, 3, 3, 3, 3, 3], [3, 2, 3, 3, 3, 3, 3, 3, 3, 1, 3, 1, 2, 3, 3, 3, 2, 1, 3, 3, 1], [2, 3, 3, 3, 3, 3, 3, 3, 3, 3, 2, 3, 3, 3, 2, 3, 3, 2, 3, 2, 3], [3, 3, 3, 3, 2, 3, 1, 2, 3, 3, 3, 3, 3, 3, 3, 3, 3, 3, 3, 3, 2], [3, 2, 3, 2, 3, 2, 3, 3, 3, 3, 2, 3, 3, 3, 1, 3, 3, 3, 3, 3, 3]]\n",
            "Starting with 12500 states\n",
            "Generated 3124 new states\n",
            "Generated 780 new states\n",
            "Generated 194 new states\n",
            "Generated 46 new states\n",
            "Generated 10 new states\n",
            "32\n",
            "[[3, 2, 3, 3, 3, 3, 3, 3, 3, 3, 3, 3, 3, 3, 3, 3, 3, 3, 3, 3, 3], [3, 3, 3, 3, 3, 3, 3, 3, 3, 3, 3, 3, 2, 1, 3, 1, 3, 1, 3, 2, 2], [3, 2, 3, 3, 3, 3, 3, 1, 3, 3, 3, 3, 3, 3, 2, 3, 3, 3, 3, 1, 3], [2, 3, 1, 3, 3, 3, 3, 3, 3, 3, 2, 3, 3, 2, 3, 3, 1, 3, 3, 3, 3], [2, 3, 3, 2, 3, 2, 3, 3, 3, 2, 3, 2, 3, 2, 3, 3, 2, 1, 3, 3, 3], [3, 3, 3, 3, 3, 3, 3, 3, 3, 3, 2, 2, 2, 3, 3, 3, 3, 3, 3, 3, 1], [3, 3, 3, 3, 1, 3, 3, 2, 3, 3, 3, 2, 1, 3, 3, 3, 3, 3, 3, 3, 3], [3, 3, 3, 3, 3, 3, 3, 2, 3, 2, 3, 1, 2, 2, 3, 1, 1, 3, 3, 1, 3], [3, 1, 3, 2, 2, 2, 3, 3, 3, 1, 3, 3, 1, 3, 3, 2, 3, 3, 3, 3, 1], [1, 2, 2, 1, 3, 3, 1, 3, 3, 1, 2, 3, 3, 2, 3, 3, 3, 2, 2, 3, 3], [2, 2, 1, 2, 2, 3, 1, 3, 3, 1, 1, 3, 3, 3, 3, 2, 2, 3, 3, 3, 3], [3, 1, 3, 1, 3, 3, 1, 3, 3, 3, 2, 3, 3, 3, 1, 1, 3, 3, 3, 3, 3]]\n",
            "Starting with 12500 states\n",
            "Generated 3124 new states\n",
            "Generated 780 new states\n",
            "Generated 194 new states\n",
            "Generated 46 new states\n",
            "Generated 10 new states\n",
            "25\n",
            "[[3, 3, 2, 3, 3, 3, 3, 1, 3, 3, 3, 1, 3, 3, 3, 3, 3, 3, 2, 3, 1], [3, 3, 1, 3, 2, 2, 3, 3, 3, 3, 3, 3, 3, 3, 2, 3, 3, 3, 3, 3, 3], [3, 1, 2, 3, 3, 3, 2, 2, 3, 3, 3, 1, 3, 2, 2, 1, 3, 3, 2, 3, 2], [2, 3, 3, 3, 1, 3, 3, 3, 3, 1, 3, 3, 3, 3, 3, 3, 3, 2, 3, 2, 3], [3, 1, 2, 3, 3, 3, 1, 2, 3, 1, 3, 2, 3, 3, 2, 3, 2, 3, 3, 3, 3], [3, 3, 1, 3, 3, 2, 3, 1, 3, 3, 3, 2, 3, 3, 3, 3, 3, 2, 3, 3, 2], [2, 3, 2, 2, 3, 3, 3, 3, 2, 3, 3, 3, 3, 3, 3, 2, 3, 3, 2, 3, 2], [3, 3, 3, 1, 3, 3, 2, 1, 3, 3, 3, 3, 3, 3, 3, 3, 3, 3, 3, 1, 3], [3, 2, 2, 3, 3, 2, 3, 3, 3, 3, 3, 1, 3, 3, 3, 3, 1, 3, 2, 2, 3], [3, 3, 2, 1, 3, 2, 1, 2, 2, 1, 3, 3, 3, 3, 3, 3, 3, 3, 2, 3, 3], [2, 3, 3, 3, 3, 3, 1, 2, 3, 3, 2, 3, 2, 2, 3, 3, 3, 2, 1, 3, 2], [3, 3, 3, 3, 3, 3, 1, 2, 3, 3, 1, 3, 3, 1, 3, 3, 3, 3, 3, 3, 3]]\n",
            "Starting with 12500 states\n",
            "Generated 3124 new states\n",
            "Generated 780 new states\n",
            "Generated 194 new states\n",
            "Generated 46 new states\n",
            "Generated 10 new states\n",
            "27\n",
            "[[3, 3, 3, 3, 3, 3, 3, 3, 3, 3, 2, 2, 3, 1, 3, 2, 3, 1, 3, 3, 2], [2, 3, 3, 3, 2, 3, 3, 3, 3, 1, 3, 3, 2, 3, 3, 1, 1, 2, 2, 3, 2], [2, 3, 3, 2, 3, 3, 2, 2, 1, 3, 2, 3, 3, 3, 1, 3, 3, 3, 3, 3, 2], [1, 3, 2, 3, 3, 3, 3, 2, 3, 3, 3, 3, 3, 3, 3, 3, 2, 3, 3, 3, 2], [3, 3, 3, 3, 3, 3, 3, 2, 1, 3, 3, 3, 1, 2, 3, 2, 3, 3, 3, 3, 2], [3, 3, 3, 3, 1, 3, 3, 3, 3, 2, 2, 3, 1, 3, 3, 3, 3, 2, 3, 3, 3], [3, 3, 2, 2, 3, 3, 3, 2, 3, 3, 3, 3, 1, 2, 3, 3, 3, 3, 3, 3, 3], [3, 2, 3, 3, 1, 3, 2, 3, 3, 3, 3, 2, 2, 3, 3, 2, 3, 2, 2, 1, 2], [2, 3, 3, 3, 1, 2, 3, 1, 2, 3, 2, 3, 2, 2, 3, 3, 3, 3, 3, 3, 3], [3, 1, 1, 3, 3, 3, 1, 3, 2, 1, 3, 3, 3, 1, 3, 3, 3, 1, 3, 3, 3], [3, 3, 3, 3, 3, 3, 3, 2, 3, 3, 3, 3, 3, 3, 3, 3, 3, 2, 3, 3, 3], [3, 3, 3, 3, 3, 2, 3, 3, 3, 3, 2, 3, 1, 3, 2, 3, 2, 3, 3, 3, 1]]\n",
            "Starting with 12500 states\n",
            "Generated 3124 new states\n",
            "Generated 780 new states\n",
            "Generated 194 new states\n",
            "Generated 46 new states\n",
            "Generated 10 new states\n",
            "123456789\n",
            "[[2, 3, 3, 3, 2, 3, 3, 3, 3, 3, 3, 3, 3, 3, 3, 2, 3, 1, 3, 2, 2], [1, 3, 3, 3, 3, 3, 3, 3, 3, 3, 1, 2, 3, 1, 2, 2, 3, 3, 2, 3, 3], [3, 3, 3, 2, 3, 3, 3, 3, 3, 3, 3, 3, 2, 2, 1, 3, 3, 3, 3, 2, 3], [2, 3, 3, 3, 2, 3, 3, 3, 3, 2, 2, 3, 3, 3, 2, 3, 3, 3, 3, 3, 3], [3, 2, 3, 3, 3, 3, 2, 3, 1, 2, 3, 3, 3, 2, 3, 1, 3, 3, 2, 3, 3], [3, 3, 3, 2, 3, 3, 3, 3, 2, 2, 3, 3, 3, 3, 3, 3, 3, 3, 3, 2, 1], [3, 1, 3, 2, 3, 3, 3, 3, 3, 3, 3, 2, 3, 2, 3, 3, 3, 3, 2, 3, 3], [3, 3, 3, 3, 3, 3, 3, 3, 1, 2, 3, 3, 3, 1, 3, 3, 3, 3, 2, 1, 3], [2, 3, 2, 3, 3, 2, 2, 3, 2, 3, 3, 3, 2, 3, 2, 2, 3, 1, 3, 1, 1], [3, 3, 2, 3, 3, 2, 1, 3, 3, 1, 1, 3, 3, 3, 3, 3, 3, 2, 3, 3, 3], [3, 3, 2, 3, 3, 3, 3, 3, 3, 3, 3, 3, 2, 3, 3, 3, 3, 3, 3, 2, 3], [3, 3, 2, 3, 3, 3, 3, 3, 3, 3, 3, 3, 2, 1, 1, 3, 2, 2, 3, 3, 2]]\n",
            "Starting with 12500 states\n",
            "Generated 3124 new states\n",
            "Generated 780 new states\n",
            "Generated 194 new states\n",
            "Generated 46 new states\n",
            "Generated 10 new states\n",
            "31\n",
            "[[3, 3, 3, 3, 3, 3, 3, 2, 3, 2, 3, 3, 2, 3, 3, 3, 2, 2, 3, 3, 3], [3, 3, 3, 3, 3, 3, 3, 3, 3, 2, 3, 2, 3, 3, 2, 2, 3, 3, 3, 3, 3], [3, 3, 3, 3, 3, 3, 3, 3, 3, 3, 3, 2, 3, 2, 3, 3, 2, 3, 3, 2, 3], [2, 3, 2, 2, 3, 3, 2, 2, 2, 2, 3, 3, 3, 2, 3, 2, 3, 3, 3, 2, 2], [1, 3, 3, 3, 3, 2, 3, 2, 3, 2, 3, 3, 3, 2, 3, 3, 3, 3, 3, 2, 2], [2, 3, 2, 3, 3, 3, 1, 3, 3, 1, 3, 3, 2, 1, 3, 3, 2, 3, 2, 3, 3], [3, 1, 2, 2, 3, 1, 1, 3, 3, 2, 3, 3, 3, 3, 3, 3, 3, 3, 2, 3, 3], [3, 2, 3, 3, 2, 2, 2, 1, 2, 3, 3, 3, 3, 3, 3, 3, 3, 3, 3, 3, 1], [3, 3, 2, 3, 2, 1, 3, 2, 3, 3, 3, 3, 3, 1, 3, 3, 3, 2, 3, 3, 3], [3, 3, 1, 3, 3, 2, 1, 3, 3, 2, 3, 3, 3, 3, 2, 3, 3, 3, 1, 3, 3], [3, 2, 3, 1, 3, 3, 3, 2, 3, 2, 3, 2, 3, 3, 3, 1, 3, 3, 3, 3, 3], [3, 3, 3, 1, 3, 3, 3, 3, 3, 2, 3, 3, 3, 3, 2, 3, 3, 3, 3, 3, 3]]\n",
            "Starting with 12500 states\n",
            "Generated 3124 new states\n",
            "Generated 780 new states\n",
            "Generated 194 new states\n",
            "Generated 46 new states\n",
            "Generated 10 new states\n",
            "31\n",
            "[[1, 3, 3, 3, 3, 3, 3, 3, 3, 3, 3, 3, 3, 3, 2, 3, 2, 3, 3, 3, 3], [2, 3, 3, 3, 3, 3, 3, 3, 3, 3, 3, 3, 3, 2, 3, 3, 1, 2, 3, 3, 3], [1, 2, 1, 3, 3, 3, 3, 3, 3, 3, 3, 3, 3, 3, 3, 3, 3, 3, 3, 3, 3], [1, 3, 3, 3, 3, 3, 3, 3, 1, 2, 3, 3, 2, 2, 3, 3, 3, 2, 3, 3, 3], [3, 3, 2, 2, 3, 3, 3, 2, 2, 3, 3, 3, 1, 1, 3, 2, 3, 3, 1, 3, 3], [3, 3, 3, 3, 3, 3, 2, 1, 2, 3, 2, 3, 3, 3, 1, 3, 3, 3, 3, 3, 3], [3, 3, 3, 2, 2, 1, 2, 3, 3, 3, 3, 3, 3, 3, 1, 3, 3, 3, 3, 3, 1], [1, 3, 3, 2, 3, 3, 2, 3, 2, 3, 3, 2, 3, 1, 1, 2, 3, 2, 3, 3, 3], [3, 2, 3, 3, 3, 3, 3, 3, 3, 3, 3, 3, 3, 3, 3, 3, 1, 3, 3, 1, 3], [3, 3, 3, 2, 1, 3, 1, 3, 3, 2, 2, 3, 3, 3, 3, 1, 2, 3, 3, 2, 3], [3, 2, 2, 3, 2, 2, 1, 2, 3, 2, 1, 3, 3, 3, 3, 3, 3, 3, 3, 3, 2], [3, 3, 3, 1, 2, 1, 3, 3, 3, 3, 1, 3, 3, 3, 3, 3, 3, 3, 2, 3, 3]]\n",
            "Starting with 12500 states\n",
            "Generated 3124 new states\n",
            "Generated 780 new states\n",
            "Generated 194 new states\n",
            "Generated 46 new states\n",
            "Generated 10 new states\n",
            "25\n",
            "[[3, 1, 3, 2, 3, 3, 3, 3, 3, 3, 3, 3, 3, 2, 3, 3, 3, 3, 2, 3, 3], [3, 3, 3, 3, 2, 3, 2, 1, 3, 3, 3, 3, 3, 2, 3, 3, 3, 2, 3, 3, 3], [2, 3, 3, 3, 2, 2, 2, 3, 2, 2, 3, 2, 2, 2, 3, 3, 3, 3, 3, 3, 3], [3, 3, 1, 3, 3, 1, 1, 3, 3, 3, 2, 2, 2, 3, 3, 3, 3, 3, 3, 3, 3], [3, 3, 3, 3, 3, 2, 3, 3, 3, 3, 1, 3, 1, 3, 3, 3, 2, 3, 2, 2, 3], [3, 3, 3, 3, 1, 3, 3, 3, 3, 3, 2, 3, 1, 1, 3, 3, 2, 3, 3, 1, 3], [2, 3, 2, 3, 1, 3, 1, 3, 3, 3, 3, 3, 3, 3, 1, 1, 3, 2, 3, 3, 2], [3, 3, 3, 3, 1, 3, 3, 2, 3, 3, 2, 1, 3, 3, 3, 2, 1, 3, 3, 3, 3], [3, 3, 3, 3, 1, 2, 3, 3, 3, 2, 3, 3, 3, 3, 3, 3, 1, 1, 3, 2, 3], [3, 3, 2, 3, 3, 3, 3, 3, 3, 2, 3, 3, 3, 3, 3, 2, 2, 3, 3, 3, 3], [3, 3, 3, 2, 3, 1, 2, 3, 1, 3, 3, 3, 3, 3, 3, 3, 3, 3, 3, 3, 3], [1, 3, 3, 1, 3, 3, 3, 1, 3, 1, 1, 2, 3, 3, 3, 3, 3, 3, 3, 3, 3]]\n",
            "Starting with 12500 states\n",
            "Generated 3124 new states\n",
            "Generated 780 new states\n",
            "Generated 194 new states\n",
            "Generated 46 new states\n",
            "Generated 10 new states\n",
            "123456789\n",
            "[[3, 2, 3, 3, 3, 3, 3, 3, 3, 3, 2, 2, 3, 3, 3, 3, 3, 2, 3, 3, 3], [2, 3, 3, 2, 3, 3, 3, 3, 2, 3, 3, 1, 1, 3, 2, 2, 3, 3, 3, 3, 3], [2, 1, 3, 1, 3, 1, 1, 3, 3, 2, 1, 3, 3, 2, 3, 3, 3, 3, 2, 2, 3], [2, 3, 3, 1, 3, 3, 1, 3, 3, 3, 3, 3, 3, 3, 3, 3, 2, 3, 3, 3, 3], [3, 3, 3, 3, 1, 3, 3, 3, 3, 2, 3, 3, 3, 2, 2, 1, 1, 3, 3, 3, 1], [3, 3, 3, 1, 1, 3, 2, 3, 3, 3, 3, 3, 3, 3, 3, 3, 3, 3, 3, 3, 3], [3, 1, 3, 2, 2, 3, 3, 3, 2, 3, 3, 3, 3, 3, 3, 1, 2, 1, 2, 3, 3], [3, 3, 3, 3, 3, 3, 3, 3, 3, 2, 3, 3, 2, 2, 3, 3, 3, 3, 3, 3, 3], [3, 2, 2, 3, 1, 1, 3, 3, 3, 2, 3, 2, 3, 3, 3, 2, 3, 2, 2, 3, 2], [3, 3, 1, 2, 3, 3, 1, 2, 3, 2, 3, 3, 3, 3, 2, 3, 3, 3, 3, 2, 1], [3, 3, 1, 3, 3, 3, 1, 3, 2, 3, 2, 3, 3, 3, 3, 2, 2, 3, 3, 3, 3], [1, 1, 3, 3, 3, 3, 3, 3, 1, 3, 3, 3, 2, 3, 3, 3, 3, 1, 3, 3, 3]]\n",
            "Starting with 12500 states\n",
            "Generated 3124 new states\n",
            "Generated 780 new states\n",
            "Generated 194 new states\n",
            "Generated 46 new states\n",
            "Generated 10 new states\n",
            "123456789\n",
            "[[3, 3, 3, 3, 3, 3, 3, 3, 3, 3, 3, 3, 3, 3, 3, 3, 3, 3, 3, 3, 2], [3, 2, 3, 3, 3, 3, 3, 3, 2, 3, 3, 3, 3, 3, 3, 2, 3, 3, 3, 2, 3], [3, 3, 3, 3, 3, 3, 2, 1, 3, 1, 3, 3, 3, 1, 2, 3, 3, 3, 3, 2, 3], [3, 3, 3, 2, 1, 3, 2, 3, 3, 1, 1, 3, 3, 3, 3, 3, 3, 2, 3, 3, 3], [3, 3, 3, 3, 3, 2, 1, 3, 3, 3, 3, 1, 3, 3, 3, 2, 3, 3, 2, 3, 3], [3, 3, 3, 3, 2, 3, 3, 3, 1, 3, 3, 3, 3, 2, 3, 3, 3, 2, 1, 1, 3], [3, 1, 1, 3, 3, 3, 3, 2, 3, 3, 3, 3, 1, 3, 3, 1, 3, 3, 3, 3, 3], [3, 2, 2, 2, 2, 3, 3, 3, 2, 2, 1, 3, 3, 3, 3, 3, 3, 3, 3, 3, 3], [3, 2, 1, 3, 3, 3, 3, 3, 1, 3, 2, 3, 3, 3, 3, 3, 2, 3, 2, 2, 3], [3, 3, 3, 3, 2, 2, 1, 3, 3, 3, 1, 3, 3, 3, 1, 2, 3, 3, 1, 3, 3], [2, 3, 3, 2, 2, 3, 1, 3, 3, 3, 3, 3, 3, 3, 3, 3, 2, 3, 2, 3, 1], [3, 2, 2, 3, 2, 2, 3, 3, 3, 3, 2, 3, 3, 2, 3, 3, 2, 3, 3, 1, 3]]\n",
            "Starting with 12500 states\n",
            "Generated 3124 new states\n",
            "Generated 780 new states\n",
            "Generated 194 new states\n",
            "Generated 46 new states\n",
            "Generated 10 new states\n",
            "26\n",
            "[[3, 2, 3, 2, 3, 3, 3, 3, 3, 3, 3, 2, 3, 1, 3, 3, 3, 3, 3, 3, 2], [3, 3, 3, 3, 1, 2, 3, 3, 1, 3, 3, 3, 3, 3, 1, 3, 2, 3, 3, 3, 2], [3, 3, 3, 1, 1, 3, 3, 2, 3, 2, 2, 3, 3, 3, 2, 3, 2, 3, 3, 3, 3], [3, 3, 3, 2, 3, 2, 3, 3, 3, 2, 3, 2, 2, 2, 3, 3, 3, 1, 3, 3, 3], [3, 3, 2, 3, 3, 3, 3, 3, 1, 3, 3, 1, 3, 3, 3, 3, 3, 3, 3, 1, 3], [1, 3, 3, 3, 3, 2, 3, 3, 3, 3, 3, 3, 3, 2, 2, 3, 3, 3, 3, 3, 3], [3, 3, 3, 2, 3, 3, 1, 3, 2, 3, 3, 3, 3, 3, 3, 3, 2, 3, 2, 1, 3], [3, 3, 3, 2, 3, 3, 3, 3, 3, 3, 3, 2, 2, 3, 3, 3, 3, 1, 3, 3, 3], [3, 2, 3, 2, 3, 3, 3, 2, 2, 2, 3, 3, 3, 3, 3, 2, 3, 3, 3, 3, 2], [3, 3, 3, 3, 3, 1, 1, 1, 3, 3, 3, 3, 3, 2, 3, 3, 2, 3, 3, 3, 1], [2, 3, 3, 3, 3, 3, 1, 2, 3, 2, 3, 3, 2, 3, 3, 1, 3, 2, 3, 3, 2], [3, 3, 3, 3, 3, 3, 3, 3, 3, 2, 3, 3, 2, 3, 3, 1, 2, 1, 2, 1, 3]]\n",
            "Starting with 12500 states\n",
            "Generated 3124 new states\n",
            "Generated 780 new states\n",
            "Generated 194 new states\n",
            "Generated 46 new states\n",
            "Generated 10 new states\n",
            "28\n",
            "[[3, 3, 2, 3, 3, 1, 3, 3, 3, 3, 2, 3, 1, 2, 1, 3, 3, 3, 3, 3, 3], [1, 3, 1, 3, 3, 3, 3, 3, 3, 3, 3, 3, 3, 3, 3, 3, 3, 2, 3, 1, 3], [1, 3, 3, 3, 1, 3, 3, 3, 3, 2, 3, 3, 2, 3, 3, 2, 3, 3, 3, 3, 3], [3, 3, 2, 3, 3, 3, 3, 3, 2, 1, 3, 3, 2, 1, 1, 3, 3, 3, 3, 1, 3], [3, 3, 3, 2, 2, 3, 3, 3, 2, 2, 2, 2, 3, 3, 3, 3, 3, 3, 1, 3, 3], [3, 2, 3, 3, 1, 3, 3, 3, 1, 2, 3, 3, 3, 2, 2, 3, 3, 3, 3, 3, 2], [2, 3, 3, 3, 3, 3, 3, 2, 3, 3, 3, 3, 1, 3, 3, 1, 2, 1, 3, 3, 3], [1, 2, 2, 3, 3, 3, 3, 3, 3, 3, 2, 3, 3, 2, 3, 3, 3, 3, 1, 3, 3], [3, 3, 3, 2, 3, 2, 3, 3, 2, 3, 3, 3, 2, 2, 3, 3, 3, 3, 2, 2, 3], [2, 3, 3, 3, 3, 3, 2, 2, 3, 3, 2, 2, 3, 3, 3, 3, 3, 1, 1, 3, 3], [2, 3, 3, 3, 2, 2, 3, 2, 3, 2, 3, 3, 3, 3, 2, 3, 3, 2, 3, 3, 3], [3, 1, 2, 3, 3, 3, 3, 3, 3, 3, 2, 3, 3, 3, 2, 3, 3, 3, 3, 3, 3]]\n",
            "Starting with 12500 states\n",
            "Generated 3124 new states\n",
            "Generated 780 new states\n",
            "Generated 194 new states\n",
            "Generated 46 new states\n",
            "Generated 10 new states\n",
            "123456789\n",
            "[[1, 2, 3, 3, 1, 1, 3, 3, 3, 3, 3, 2, 1, 3, 2, 3, 3, 2, 1, 3, 3], [1, 2, 3, 3, 2, 2, 3, 3, 3, 3, 2, 2, 3, 2, 3, 1, 3, 3, 3, 3, 3], [2, 2, 1, 3, 3, 1, 2, 3, 3, 3, 3, 3, 3, 1, 3, 3, 2, 3, 3, 1, 2], [3, 3, 3, 3, 2, 3, 3, 3, 1, 2, 2, 3, 3, 3, 3, 3, 3, 3, 2, 3, 3], [3, 2, 2, 3, 3, 1, 3, 3, 2, 1, 1, 3, 3, 3, 3, 2, 3, 2, 3, 3, 3], [3, 2, 3, 2, 3, 2, 1, 2, 3, 2, 3, 3, 2, 2, 3, 3, 3, 3, 3, 3, 2], [3, 2, 2, 3, 2, 2, 3, 3, 3, 3, 3, 3, 1, 3, 2, 3, 2, 3, 3, 3, 2], [3, 3, 3, 3, 3, 3, 3, 3, 3, 2, 2, 1, 3, 3, 1, 3, 3, 3, 1, 3, 3], [3, 3, 1, 3, 2, 3, 3, 3, 2, 2, 3, 1, 1, 2, 3, 3, 3, 3, 3, 3, 3], [3, 2, 3, 3, 3, 3, 2, 3, 2, 3, 3, 3, 3, 2, 3, 2, 3, 2, 3, 3, 2], [2, 1, 3, 3, 3, 3, 3, 3, 2, 3, 2, 3, 3, 2, 3, 3, 3, 3, 3, 2, 3], [2, 3, 3, 2, 3, 1, 3, 3, 3, 3, 3, 2, 3, 2, 1, 3, 3, 3, 1, 3, 1]]\n",
            "Starting with 12500 states\n",
            "Generated 3124 new states\n",
            "Generated 780 new states\n",
            "Generated 194 new states\n",
            "Generated 46 new states\n",
            "Generated 10 new states\n",
            "123456789\n",
            "[[3, 3, 2, 3, 2, 1, 3, 2, 3, 3, 3, 3, 3, 1, 2, 3, 2, 3, 3, 2, 3], [3, 1, 1, 2, 3, 3, 3, 3, 3, 1, 3, 2, 3, 3, 3, 3, 3, 1, 3, 3, 3], [2, 3, 3, 2, 3, 3, 3, 3, 3, 3, 2, 3, 3, 1, 3, 2, 3, 3, 3, 3, 3], [3, 3, 2, 3, 3, 3, 3, 3, 3, 3, 3, 3, 1, 3, 3, 2, 1, 3, 3, 3, 3], [3, 3, 3, 3, 1, 3, 3, 3, 3, 2, 1, 3, 1, 3, 3, 3, 3, 2, 2, 2, 3], [2, 2, 3, 3, 3, 3, 2, 3, 3, 1, 3, 1, 1, 3, 3, 3, 3, 3, 1, 1, 2], [1, 2, 3, 2, 3, 3, 3, 3, 3, 3, 3, 3, 3, 3, 2, 1, 3, 3, 3, 3, 3], [1, 2, 3, 3, 1, 3, 3, 3, 3, 3, 2, 1, 3, 2, 1, 3, 3, 3, 3, 3, 3], [2, 2, 1, 3, 1, 2, 2, 3, 3, 1, 2, 3, 2, 3, 1, 3, 3, 3, 2, 3, 3], [3, 1, 3, 3, 3, 3, 2, 3, 3, 3, 1, 3, 3, 3, 3, 2, 3, 3, 3, 2, 2], [3, 3, 3, 3, 2, 2, 1, 2, 3, 3, 3, 1, 3, 2, 2, 3, 3, 3, 3, 3, 2], [3, 3, 2, 3, 3, 3, 2, 1, 3, 3, 3, 2, 2, 2, 2, 3, 3, 2, 2, 1, 2]]\n",
            "Starting with 12500 states\n",
            "Generated 3124 new states\n",
            "Generated 780 new states\n",
            "Generated 194 new states\n",
            "Generated 46 new states\n",
            "Generated 10 new states\n",
            "25\n",
            "[[1, 1, 3, 1, 2, 2, 3, 2, 1, 3, 2, 2, 3, 3, 3, 3, 3, 3, 3, 2, 2], [3, 3, 3, 2, 2, 3, 2, 3, 3, 3, 3, 2, 3, 2, 2, 3, 3, 3, 3, 1, 1], [3, 3, 3, 3, 3, 3, 3, 3, 2, 3, 2, 1, 2, 2, 3, 3, 3, 1, 3, 3, 3], [3, 3, 3, 1, 3, 2, 3, 3, 3, 2, 2, 2, 1, 2, 1, 2, 3, 3, 2, 2, 3], [3, 3, 3, 1, 2, 3, 3, 3, 3, 3, 3, 3, 3, 2, 3, 1, 3, 2, 3, 3, 3], [3, 3, 3, 3, 2, 1, 3, 3, 3, 3, 2, 1, 1, 3, 3, 3, 1, 2, 2, 3, 3], [3, 3, 3, 3, 3, 3, 2, 2, 3, 3, 3, 3, 1, 3, 1, 3, 1, 1, 3, 1, 3], [3, 3, 2, 3, 2, 3, 3, 2, 3, 3, 3, 3, 3, 3, 3, 1, 3, 3, 2, 2, 3], [3, 3, 3, 3, 1, 3, 3, 1, 3, 2, 3, 3, 3, 2, 2, 3, 3, 3, 3, 3, 3], [2, 3, 2, 1, 3, 1, 2, 3, 3, 3, 3, 3, 3, 1, 3, 3, 2, 2, 3, 1, 2], [3, 3, 1, 3, 3, 3, 3, 2, 3, 1, 3, 3, 3, 2, 2, 3, 3, 3, 3, 2, 3], [3, 3, 3, 1, 3, 2, 3, 2, 3, 2, 2, 3, 3, 3, 3, 1, 2, 3, 3, 3, 3]]\n",
            "Starting with 12500 states\n",
            "Generated 3124 new states\n",
            "Generated 780 new states\n",
            "Generated 194 new states\n",
            "Generated 46 new states\n",
            "Generated 10 new states\n",
            "123456789\n",
            "[[3, 3, 3, 1, 3, 3, 3, 3, 3, 1, 3, 3, 2, 3, 3, 1, 1, 3, 2, 3, 3], [2, 3, 2, 3, 3, 2, 3, 3, 3, 2, 2, 1, 3, 3, 2, 2, 3, 3, 3, 2, 2], [3, 3, 2, 2, 3, 3, 3, 2, 3, 3, 3, 3, 3, 2, 3, 2, 2, 3, 1, 2, 3], [3, 3, 3, 3, 3, 2, 2, 3, 3, 2, 3, 2, 2, 3, 3, 3, 3, 3, 3, 3, 3], [3, 3, 3, 3, 1, 3, 3, 3, 3, 3, 3, 3, 3, 2, 1, 3, 2, 3, 2, 2, 3], [3, 3, 3, 3, 3, 3, 3, 3, 3, 1, 2, 3, 3, 3, 2, 3, 3, 3, 3, 3, 3], [3, 3, 3, 3, 3, 3, 3, 2, 3, 3, 3, 3, 1, 3, 2, 3, 3, 3, 3, 1, 3], [3, 3, 2, 3, 3, 3, 3, 3, 3, 3, 3, 3, 3, 3, 3, 1, 3, 3, 3, 2, 2], [1, 2, 3, 3, 3, 3, 1, 3, 3, 1, 3, 3, 2, 3, 3, 2, 2, 3, 3, 3, 3], [3, 3, 1, 3, 3, 2, 2, 3, 3, 3, 1, 3, 3, 3, 3, 3, 3, 1, 3, 3, 3], [2, 3, 3, 2, 3, 3, 1, 3, 3, 3, 3, 3, 3, 2, 3, 3, 2, 3, 3, 3, 2], [3, 3, 3, 3, 3, 2, 3, 3, 3, 3, 1, 3, 2, 3, 2, 3, 3, 2, 3, 2, 3]]\n",
            "Starting with 12500 states\n",
            "Generated 3124 new states\n",
            "Generated 780 new states\n",
            "Generated 194 new states\n",
            "Generated 46 new states\n",
            "Generated 10 new states\n",
            "123456789\n",
            "[[3, 3, 3, 1, 3, 3, 3, 3, 3, 1, 3, 3, 2, 3, 3, 1, 1, 3, 2, 3, 3], [2, 3, 2, 3, 3, 2, 3, 3, 3, 2, 2, 1, 3, 3, 2, 2, 3, 3, 3, 2, 2], [3, 3, 2, 2, 3, 3, 3, 2, 3, 3, 3, 3, 3, 2, 3, 2, 2, 3, 1, 2, 3], [3, 3, 3, 3, 3, 2, 2, 3, 3, 2, 3, 2, 2, 3, 3, 3, 3, 3, 3, 3, 3], [3, 3, 3, 3, 1, 3, 3, 3, 3, 3, 3, 3, 3, 2, 1, 3, 2, 3, 2, 2, 3], [3, 3, 3, 3, 3, 3, 3, 3, 3, 1, 2, 3, 3, 3, 2, 3, 3, 3, 3, 3, 3], [3, 3, 3, 3, 3, 3, 3, 2, 3, 3, 3, 3, 1, 3, 2, 3, 3, 3, 3, 1, 3], [3, 3, 2, 3, 3, 3, 3, 3, 3, 3, 3, 3, 3, 3, 3, 1, 3, 3, 3, 2, 2], [1, 2, 3, 3, 3, 3, 1, 3, 3, 1, 3, 3, 2, 3, 3, 2, 2, 3, 3, 3, 3], [3, 3, 1, 3, 3, 2, 2, 3, 3, 3, 1, 3, 3, 3, 3, 3, 3, 1, 3, 3, 3], [2, 3, 3, 2, 3, 3, 1, 3, 3, 3, 3, 3, 3, 2, 3, 3, 2, 3, 3, 3, 2], [3, 3, 3, 3, 3, 2, 3, 3, 3, 3, 1, 3, 2, 3, 2, 3, 3, 2, 3, 2, 3]]\n",
            "Starting with 12500 states\n",
            "Generated 3124 new states\n",
            "Generated 780 new states\n",
            "Generated 194 new states\n",
            "Generated 46 new states\n",
            "Generated 10 new states\n",
            "123456789\n",
            "[[2, 2, 3, 3, 3, 3, 3, 3, 3, 3, 3, 3, 2, 3, 3, 1, 3, 3, 2, 3, 3], [2, 3, 3, 3, 1, 3, 2, 3, 2, 1, 3, 3, 3, 3, 3, 3, 3, 2, 3, 3, 1], [3, 3, 2, 2, 3, 3, 3, 3, 3, 2, 3, 2, 1, 2, 3, 3, 3, 3, 3, 3, 3], [3, 3, 3, 3, 3, 3, 2, 2, 3, 3, 3, 1, 3, 3, 3, 2, 3, 3, 3, 3, 1], [3, 3, 1, 3, 3, 3, 2, 3, 3, 3, 1, 3, 3, 2, 3, 3, 2, 3, 3, 3, 1], [3, 3, 1, 2, 3, 3, 3, 3, 3, 2, 3, 3, 3, 3, 3, 3, 2, 3, 1, 2, 3], [3, 2, 3, 2, 2, 1, 3, 3, 3, 3, 3, 2, 3, 3, 3, 3, 3, 3, 3, 2, 1], [2, 1, 3, 3, 3, 3, 3, 3, 1, 2, 3, 2, 2, 3, 2, 3, 3, 3, 3, 2, 3], [3, 3, 2, 2, 3, 1, 3, 3, 3, 3, 2, 3, 3, 2, 2, 3, 3, 2, 3, 3, 3], [3, 3, 2, 3, 3, 3, 2, 3, 3, 3, 1, 3, 3, 3, 3, 3, 3, 3, 3, 3, 3], [3, 3, 2, 3, 2, 3, 1, 3, 2, 2, 3, 3, 2, 3, 3, 3, 3, 3, 3, 2, 3], [1, 3, 1, 3, 3, 3, 3, 3, 2, 3, 3, 2, 3, 1, 3, 1, 3, 3, 3, 2, 3]]\n",
            "Starting with 12500 states\n",
            "Generated 3124 new states\n",
            "Generated 780 new states\n",
            "Generated 194 new states\n",
            "Generated 46 new states\n",
            "Generated 10 new states\n",
            "27\n",
            "[[3, 3, 3, 3, 3, 3, 3, 3, 1, 2, 3, 3, 3, 3, 1, 3, 2, 3, 2, 2, 3], [3, 3, 3, 3, 3, 3, 3, 3, 3, 3, 3, 2, 3, 3, 3, 2, 3, 3, 2, 3, 2], [3, 3, 3, 3, 3, 3, 3, 1, 3, 3, 3, 2, 3, 3, 2, 2, 3, 3, 3, 1, 3], [3, 3, 3, 2, 3, 3, 2, 3, 2, 3, 2, 3, 3, 3, 3, 3, 3, 3, 3, 3, 3], [2, 2, 3, 1, 3, 3, 3, 3, 3, 2, 2, 3, 2, 3, 3, 3, 2, 2, 3, 3, 3], [2, 3, 3, 3, 3, 3, 3, 3, 3, 3, 3, 3, 3, 2, 3, 3, 2, 3, 3, 3, 3], [3, 3, 3, 3, 3, 3, 3, 3, 3, 3, 3, 2, 3, 2, 3, 1, 3, 3, 3, 3, 3], [1, 2, 3, 2, 3, 2, 3, 3, 1, 3, 3, 3, 3, 3, 1, 3, 3, 3, 2, 3, 3], [3, 3, 3, 2, 3, 3, 3, 3, 3, 2, 3, 3, 2, 3, 3, 1, 3, 3, 3, 1, 3], [3, 2, 1, 2, 1, 3, 3, 3, 3, 3, 3, 2, 3, 2, 3, 3, 1, 3, 2, 3, 3], [3, 2, 3, 3, 3, 3, 3, 3, 3, 3, 3, 3, 3, 2, 2, 3, 3, 3, 2, 2, 3], [3, 3, 3, 3, 3, 3, 3, 2, 3, 3, 1, 3, 3, 2, 3, 2, 3, 3, 2, 3, 2]]\n",
            "Starting with 12500 states\n",
            "Generated 3124 new states\n",
            "Generated 780 new states\n",
            "Generated 194 new states\n",
            "Generated 46 new states\n",
            "Generated 10 new states\n",
            "31\n",
            "[[2, 3, 2, 2, 3, 3, 3, 3, 3, 3, 3, 3, 3, 2, 3, 3, 3, 1, 3, 3, 3], [3, 3, 3, 3, 3, 3, 3, 3, 3, 3, 3, 3, 3, 1, 2, 2, 3, 3, 2, 2, 2], [3, 2, 1, 3, 3, 2, 2, 3, 1, 3, 3, 2, 1, 3, 2, 3, 3, 3, 3, 2, 3], [2, 3, 3, 3, 3, 2, 2, 2, 1, 3, 3, 3, 3, 3, 2, 3, 3, 2, 3, 3, 2], [2, 3, 1, 3, 3, 3, 3, 3, 1, 3, 3, 3, 2, 1, 3, 2, 3, 3, 3, 3, 2], [1, 3, 1, 3, 3, 3, 3, 2, 3, 3, 2, 3, 3, 3, 1, 3, 3, 3, 3, 2, 3], [3, 3, 1, 3, 2, 3, 3, 3, 2, 2, 3, 3, 1, 2, 2, 1, 3, 2, 3, 3, 2], [3, 3, 2, 1, 3, 2, 3, 2, 3, 3, 3, 3, 3, 1, 3, 1, 3, 3, 3, 2, 3], [3, 3, 3, 3, 3, 3, 3, 3, 2, 3, 3, 2, 3, 3, 3, 3, 3, 3, 2, 3, 2], [2, 3, 1, 3, 3, 2, 2, 3, 3, 3, 3, 3, 3, 3, 3, 3, 3, 3, 3, 3, 3], [3, 1, 3, 3, 3, 3, 3, 2, 2, 3, 2, 3, 3, 3, 2, 3, 1, 1, 3, 3, 3], [3, 2, 2, 3, 3, 1, 2, 2, 3, 3, 3, 3, 3, 3, 3, 2, 3, 3, 3, 3, 3]]\n",
            "Starting with 12500 states\n",
            "Generated 3124 new states\n",
            "Generated 780 new states\n",
            "Generated 194 new states\n",
            "Generated 46 new states\n",
            "Generated 10 new states\n",
            "30\n",
            "[[3, 3, 3, 3, 3, 3, 3, 3, 3, 2, 3, 1, 3, 3, 3, 3, 3, 1, 3, 3, 3], [3, 2, 2, 3, 1, 3, 3, 3, 2, 3, 3, 3, 2, 3, 3, 3, 3, 3, 2, 3, 3], [3, 3, 3, 3, 1, 3, 3, 3, 3, 1, 2, 3, 2, 3, 2, 3, 3, 3, 3, 3, 3], [3, 3, 3, 3, 3, 3, 3, 3, 3, 3, 3, 2, 1, 2, 2, 3, 3, 3, 1, 3, 3], [2, 3, 3, 3, 3, 3, 3, 2, 2, 3, 2, 3, 1, 2, 2, 3, 3, 3, 3, 1, 3], [1, 3, 3, 2, 2, 3, 1, 3, 2, 3, 3, 3, 1, 1, 2, 3, 3, 3, 1, 3, 3], [3, 3, 3, 2, 1, 1, 3, 3, 3, 2, 3, 3, 3, 2, 3, 3, 3, 3, 3, 3, 3], [3, 3, 3, 2, 1, 1, 3, 2, 3, 3, 3, 1, 3, 3, 3, 3, 3, 2, 3, 2, 3], [3, 3, 3, 2, 1, 3, 3, 3, 2, 3, 3, 3, 2, 3, 2, 2, 1, 3, 3, 3, 3], [3, 3, 1, 3, 2, 3, 2, 3, 3, 3, 3, 3, 3, 3, 1, 3, 1, 3, 2, 3, 3], [3, 3, 3, 3, 3, 3, 3, 3, 3, 2, 3, 2, 3, 1, 3, 3, 3, 3, 3, 2, 1], [3, 3, 3, 1, 3, 3, 2, 2, 1, 1, 3, 3, 3, 3, 2, 3, 3, 3, 3, 3, 3]]\n",
            "Starting with 12500 states\n",
            "Generated 3124 new states\n",
            "Generated 780 new states\n",
            "Generated 194 new states\n",
            "Generated 46 new states\n",
            "Generated 10 new states\n",
            "123456789\n",
            "[[3, 3, 3, 3, 3, 3, 3, 3, 3, 3, 3, 3, 3, 3, 1, 3, 3, 3, 3, 3, 3], [3, 3, 3, 3, 3, 3, 3, 1, 3, 1, 3, 3, 3, 3, 3, 3, 3, 1, 3, 3, 3], [1, 3, 3, 3, 2, 3, 2, 3, 3, 3, 1, 3, 2, 3, 1, 3, 2, 1, 2, 3, 3], [2, 3, 3, 3, 2, 3, 3, 3, 3, 2, 3, 3, 3, 3, 3, 3, 3, 3, 3, 3, 3], [3, 2, 3, 3, 3, 3, 3, 3, 3, 1, 3, 1, 3, 3, 3, 3, 3, 3, 2, 3, 3], [3, 3, 3, 3, 3, 3, 2, 3, 3, 3, 3, 3, 2, 3, 3, 3, 3, 3, 3, 1, 3], [3, 2, 1, 3, 1, 3, 1, 2, 2, 3, 3, 3, 1, 3, 3, 3, 3, 1, 3, 3, 3], [1, 3, 1, 3, 3, 3, 3, 3, 3, 3, 3, 3, 1, 3, 3, 2, 3, 2, 2, 1, 3], [3, 3, 3, 3, 2, 3, 3, 3, 3, 3, 2, 3, 3, 3, 3, 3, 3, 3, 3, 3, 2], [3, 3, 3, 2, 1, 3, 2, 1, 3, 3, 2, 2, 3, 3, 3, 2, 2, 3, 3, 3, 3], [1, 3, 3, 3, 2, 1, 3, 2, 3, 3, 3, 3, 1, 3, 1, 1, 3, 1, 2, 3, 3], [3, 2, 1, 3, 3, 3, 1, 3, 3, 1, 1, 1, 3, 3, 3, 3, 3, 3, 3, 3, 3]]\n",
            "Starting with 12500 states\n",
            "Generated 3124 new states\n",
            "Generated 780 new states\n",
            "Generated 194 new states\n",
            "Generated 46 new states\n",
            "Generated 10 new states\n",
            "29\n",
            "[[2, 2, 2, 3, 3, 3, 3, 2, 3, 2, 1, 1, 2, 3, 3, 2, 2, 3, 1, 2, 3], [3, 3, 3, 3, 3, 2, 2, 3, 3, 3, 1, 3, 3, 3, 3, 3, 2, 3, 3, 1, 3], [3, 2, 1, 2, 3, 3, 3, 2, 3, 3, 1, 3, 3, 3, 3, 3, 2, 1, 3, 3, 3], [3, 3, 1, 3, 2, 3, 3, 3, 1, 3, 3, 2, 3, 2, 3, 3, 1, 3, 3, 2, 3], [2, 2, 1, 3, 2, 3, 3, 3, 3, 3, 3, 3, 3, 3, 3, 1, 3, 3, 3, 3, 3], [3, 3, 3, 3, 3, 3, 3, 3, 1, 3, 3, 2, 2, 3, 3, 3, 3, 1, 3, 3, 2], [1, 3, 3, 3, 2, 3, 1, 3, 3, 2, 3, 3, 1, 3, 2, 3, 3, 3, 3, 3, 3], [3, 1, 1, 3, 3, 3, 1, 1, 2, 3, 3, 3, 2, 3, 3, 3, 3, 3, 3, 3, 3], [3, 2, 2, 3, 2, 2, 2, 3, 1, 3, 3, 3, 3, 2, 3, 3, 3, 3, 3, 1, 2], [2, 3, 3, 2, 3, 3, 2, 2, 3, 3, 3, 3, 3, 2, 3, 3, 2, 3, 3, 3, 3], [1, 3, 2, 2, 3, 3, 1, 3, 3, 1, 3, 3, 3, 3, 3, 3, 2, 3, 2, 3, 2], [3, 3, 3, 3, 3, 1, 2, 3, 3, 2, 3, 2, 3, 1, 3, 3, 3, 3, 3, 2, 3]]\n",
            "Starting with 12500 states\n",
            "Generated 3124 new states\n",
            "Generated 780 new states\n",
            "Generated 194 new states\n",
            "Generated 46 new states\n",
            "Generated 10 new states\n",
            "123456789\n",
            "[[2, 3, 3, 3, 3, 3, 3, 3, 3, 3, 3, 3, 3, 3, 2, 3, 3, 2, 3, 3, 1], [3, 3, 3, 3, 3, 1, 3, 3, 3, 2, 3, 3, 2, 3, 1, 2, 2, 3, 3, 2, 3], [2, 3, 3, 1, 3, 3, 2, 3, 3, 3, 3, 3, 3, 3, 2, 3, 3, 1, 3, 2, 3], [3, 3, 3, 2, 3, 1, 2, 3, 3, 3, 3, 3, 3, 3, 3, 3, 3, 2, 2, 3, 3], [3, 3, 3, 3, 3, 2, 3, 3, 2, 3, 3, 3, 3, 3, 2, 2, 3, 2, 3, 3, 3], [2, 2, 3, 3, 2, 2, 3, 3, 3, 3, 3, 3, 3, 3, 1, 1, 3, 3, 3, 2, 3], [3, 1, 3, 3, 3, 3, 3, 3, 3, 3, 3, 3, 1, 3, 3, 3, 2, 3, 3, 3, 3], [3, 3, 2, 3, 3, 3, 1, 1, 3, 3, 3, 3, 3, 3, 1, 3, 3, 3, 2, 3, 3], [3, 3, 3, 3, 3, 1, 3, 1, 2, 2, 3, 3, 2, 3, 3, 3, 3, 3, 3, 3, 3], [2, 3, 3, 3, 1, 1, 3, 3, 2, 1, 3, 3, 3, 3, 3, 3, 3, 3, 3, 3, 1], [2, 2, 3, 3, 3, 2, 3, 3, 3, 3, 3, 2, 3, 3, 3, 3, 3, 3, 3, 3, 3], [1, 2, 3, 3, 3, 3, 3, 1, 1, 3, 3, 2, 3, 1, 2, 3, 3, 3, 3, 3, 3]]\n",
            "Starting with 12500 states\n",
            "Generated 3124 new states\n",
            "Generated 780 new states\n",
            "Generated 194 new states\n",
            "Generated 46 new states\n",
            "Generated 10 new states\n",
            "28\n",
            "[[3, 3, 3, 3, 1, 1, 3, 3, 2, 2, 3, 2, 1, 2, 2, 2, 3, 3, 3, 3, 2], [2, 3, 3, 2, 3, 3, 3, 3, 3, 3, 2, 2, 3, 2, 2, 2, 2, 3, 3, 2, 3], [2, 2, 3, 3, 3, 3, 3, 3, 1, 3, 3, 3, 3, 3, 1, 3, 3, 1, 3, 2, 3], [3, 3, 3, 3, 3, 1, 1, 1, 2, 3, 3, 3, 3, 1, 3, 3, 3, 3, 3, 3, 3], [3, 3, 3, 3, 3, 3, 1, 2, 3, 3, 3, 1, 2, 3, 3, 3, 3, 1, 3, 3, 3], [3, 2, 1, 3, 3, 3, 3, 3, 3, 3, 3, 3, 3, 3, 3, 1, 3, 2, 3, 3, 3], [3, 1, 3, 3, 2, 3, 3, 3, 2, 3, 3, 2, 1, 3, 3, 3, 1, 2, 3, 3, 3], [1, 3, 2, 3, 3, 3, 3, 3, 3, 3, 3, 3, 3, 3, 2, 3, 3, 1, 3, 3, 1], [3, 3, 3, 2, 3, 3, 3, 3, 3, 3, 3, 3, 3, 3, 2, 3, 3, 3, 3, 3, 1], [3, 3, 3, 3, 2, 1, 3, 1, 3, 1, 3, 3, 3, 3, 3, 3, 3, 3, 1, 2, 2], [3, 3, 3, 3, 3, 1, 1, 2, 3, 3, 2, 2, 1, 3, 3, 3, 3, 3, 3, 1, 3], [2, 3, 3, 3, 1, 3, 3, 3, 2, 1, 3, 2, 3, 3, 3, 1, 1, 3, 1, 3, 3]]\n",
            "Starting with 12500 states\n",
            "Generated 3124 new states\n",
            "Generated 780 new states\n",
            "Generated 194 new states\n",
            "Generated 46 new states\n",
            "Generated 10 new states\n",
            "23\n",
            "[[2, 2, 2, 2, 3, 2, 3, 3, 3, 3, 1, 3, 3, 2, 3, 2, 3, 3, 2, 2, 3], [3, 3, 3, 3, 3, 3, 1, 1, 1, 3, 2, 3, 3, 3, 3, 3, 3, 1, 3, 2, 3], [3, 2, 3, 3, 2, 3, 3, 3, 3, 2, 3, 3, 3, 2, 3, 3, 3, 1, 3, 3, 3], [3, 3, 3, 2, 3, 3, 1, 3, 3, 3, 3, 3, 3, 2, 3, 1, 3, 2, 3, 1, 3], [3, 3, 3, 3, 3, 3, 3, 1, 3, 3, 1, 3, 3, 2, 3, 3, 2, 3, 2, 3, 3], [1, 3, 3, 3, 3, 1, 2, 3, 3, 3, 3, 3, 3, 1, 1, 2, 3, 3, 3, 2, 3], [1, 3, 3, 3, 3, 1, 3, 3, 3, 3, 2, 2, 1, 3, 1, 2, 3, 2, 3, 3, 3], [3, 2, 2, 3, 3, 1, 3, 2, 3, 3, 2, 3, 2, 3, 3, 3, 3, 3, 1, 3, 3], [3, 3, 3, 3, 3, 3, 3, 3, 3, 3, 3, 3, 2, 3, 3, 3, 3, 3, 1, 1, 3], [3, 3, 2, 3, 3, 3, 3, 3, 3, 2, 3, 3, 3, 2, 3, 3, 3, 3, 3, 3, 3], [2, 2, 3, 3, 3, 3, 1, 2, 3, 2, 1, 3, 3, 3, 3, 3, 3, 1, 1, 3, 3], [2, 3, 1, 3, 3, 2, 3, 2, 2, 3, 3, 3, 1, 3, 2, 3, 2, 3, 3, 3, 3]]\n",
            "Starting with 12500 states\n",
            "Generated 3124 new states\n",
            "Generated 780 new states\n",
            "Generated 194 new states\n",
            "Generated 46 new states\n",
            "Generated 10 new states\n",
            "29\n",
            "[[3, 1, 3, 2, 3, 3, 3, 2, 3, 3, 3, 3, 3, 3, 3, 3, 3, 1, 3, 3, 2], [3, 3, 3, 3, 3, 3, 2, 1, 3, 2, 3, 3, 3, 2, 3, 3, 3, 2, 1, 3, 3], [3, 3, 2, 3, 2, 2, 3, 3, 1, 3, 3, 3, 3, 2, 3, 2, 2, 1, 1, 3, 2], [3, 3, 2, 1, 3, 3, 3, 1, 3, 3, 3, 1, 3, 3, 1, 3, 1, 3, 1, 3, 3], [3, 3, 1, 1, 3, 3, 2, 3, 2, 1, 1, 3, 2, 1, 1, 3, 3, 3, 3, 3, 3], [3, 3, 1, 3, 3, 3, 3, 3, 2, 3, 3, 1, 3, 3, 3, 2, 3, 2, 3, 3, 3], [2, 3, 3, 3, 3, 3, 1, 3, 2, 3, 2, 1, 3, 2, 2, 3, 3, 3, 3, 3, 1], [3, 3, 2, 3, 3, 3, 2, 3, 3, 3, 2, 3, 3, 3, 3, 3, 3, 3, 3, 3, 3], [3, 3, 3, 1, 3, 3, 3, 2, 2, 3, 2, 1, 3, 2, 3, 2, 3, 3, 3, 3, 1], [3, 3, 1, 3, 1, 3, 3, 2, 3, 2, 3, 3, 3, 1, 3, 3, 3, 3, 3, 3, 3], [3, 3, 1, 3, 3, 3, 3, 3, 1, 3, 3, 3, 3, 3, 3, 3, 3, 3, 3, 3, 2], [3, 2, 3, 3, 1, 2, 3, 3, 3, 2, 3, 3, 3, 3, 3, 3, 3, 3, 2, 1, 3]]\n",
            "Starting with 12500 states\n",
            "Generated 3124 new states\n",
            "Generated 780 new states\n",
            "Generated 194 new states\n",
            "Generated 46 new states\n",
            "Generated 10 new states\n",
            "123456789\n",
            "[[3, 3, 3, 3, 3, 3, 3, 3, 3, 2, 3, 2, 3, 3, 1, 1, 1, 3, 3, 2, 2], [1, 2, 1, 3, 2, 2, 3, 2, 1, 3, 3, 3, 2, 3, 2, 1, 3, 3, 3, 3, 3], [2, 2, 1, 2, 2, 3, 3, 3, 3, 2, 3, 3, 3, 3, 2, 3, 1, 2, 2, 2, 3], [3, 3, 2, 3, 3, 1, 3, 3, 3, 3, 2, 3, 3, 3, 3, 1, 3, 1, 3, 3, 3], [2, 3, 1, 1, 3, 3, 3, 3, 3, 3, 3, 3, 1, 3, 3, 3, 3, 3, 3, 2, 3], [3, 3, 2, 1, 3, 3, 3, 3, 3, 2, 3, 3, 3, 1, 1, 2, 3, 3, 1, 3, 2], [3, 2, 3, 3, 3, 1, 2, 2, 3, 2, 2, 2, 2, 3, 3, 3, 3, 3, 3, 3, 3], [1, 3, 3, 1, 1, 3, 3, 3, 3, 1, 3, 2, 2, 3, 3, 2, 3, 3, 3, 2, 1], [3, 3, 2, 3, 3, 2, 2, 2, 3, 3, 3, 3, 3, 3, 3, 3, 3, 3, 2, 3, 3], [2, 2, 3, 3, 3, 2, 3, 3, 3, 3, 3, 2, 3, 2, 3, 3, 3, 2, 3, 3, 2], [3, 2, 3, 3, 3, 3, 3, 2, 3, 2, 2, 3, 2, 3, 3, 3, 3, 1, 1, 3, 3], [2, 3, 3, 2, 3, 3, 3, 2, 3, 2, 3, 3, 3, 2, 3, 1, 1, 3, 2, 3, 3]]\n",
            "Starting with 12500 states\n",
            "Generated 3124 new states\n",
            "Generated 780 new states\n",
            "Generated 194 new states\n",
            "Generated 46 new states\n",
            "Generated 10 new states\n",
            "123456789\n",
            "[[2, 3, 3, 2, 3, 3, 3, 3, 2, 3, 3, 2, 3, 2, 3, 3, 3, 2, 3, 3, 3], [3, 3, 2, 3, 3, 3, 2, 3, 3, 3, 3, 3, 3, 3, 3, 3, 3, 2, 3, 3, 3], [3, 3, 3, 2, 2, 1, 2, 3, 3, 3, 3, 3, 3, 3, 2, 3, 3, 1, 3, 3, 3], [3, 3, 3, 3, 3, 3, 3, 3, 1, 3, 3, 2, 3, 3, 3, 3, 3, 3, 3, 2, 2], [2, 3, 2, 3, 2, 2, 3, 1, 3, 2, 2, 3, 3, 3, 3, 3, 3, 3, 3, 3, 2], [3, 3, 3, 3, 3, 3, 3, 2, 3, 3, 3, 3, 3, 2, 3, 2, 3, 3, 2, 3, 3], [2, 3, 3, 3, 1, 3, 3, 3, 3, 2, 2, 3, 3, 3, 2, 3, 3, 2, 3, 3, 3], [3, 3, 2, 2, 2, 3, 3, 2, 1, 3, 2, 3, 3, 2, 3, 3, 3, 3, 3, 2, 3], [3, 2, 3, 3, 3, 3, 3, 3, 3, 3, 3, 3, 3, 3, 1, 3, 2, 3, 3, 3, 3], [3, 2, 3, 1, 2, 3, 3, 3, 2, 2, 1, 3, 3, 3, 3, 3, 3, 3, 3, 2, 3], [2, 3, 3, 1, 2, 3, 3, 2, 2, 3, 3, 3, 3, 3, 3, 3, 3, 3, 3, 1, 3], [3, 1, 3, 3, 2, 1, 3, 2, 3, 3, 3, 2, 3, 3, 3, 3, 1, 3, 2, 3, 3]]\n",
            "Starting with 12500 states\n",
            "Generated 3124 new states\n",
            "Generated 780 new states\n",
            "Generated 194 new states\n",
            "Generated 46 new states\n",
            "Generated 10 new states\n",
            "32\n",
            "[[3, 3, 3, 3, 2, 3, 3, 2, 3, 3, 3, 3, 3, 3, 3, 3, 3, 3, 3, 3, 3], [3, 3, 3, 3, 3, 2, 3, 2, 2, 3, 3, 3, 3, 2, 2, 3, 1, 3, 1, 3, 3], [3, 3, 3, 3, 2, 2, 3, 3, 3, 3, 3, 3, 3, 3, 3, 3, 3, 3, 3, 3, 2], [2, 3, 2, 3, 3, 3, 3, 1, 3, 3, 3, 3, 3, 1, 2, 3, 2, 3, 3, 3, 3], [3, 1, 3, 3, 3, 3, 3, 3, 2, 3, 3, 3, 3, 2, 3, 3, 1, 3, 3, 3, 3], [2, 3, 3, 3, 2, 2, 3, 3, 3, 3, 3, 3, 3, 3, 3, 3, 3, 3, 3, 3, 2], [3, 3, 1, 1, 3, 3, 3, 3, 1, 3, 3, 2, 1, 2, 2, 3, 2, 3, 3, 3, 3], [3, 3, 3, 3, 2, 3, 3, 1, 3, 3, 3, 3, 2, 3, 3, 3, 3, 2, 2, 2, 3], [3, 3, 2, 3, 3, 3, 3, 3, 3, 3, 3, 3, 3, 3, 3, 3, 3, 3, 3, 3, 3], [3, 2, 3, 3, 3, 2, 3, 3, 3, 3, 2, 3, 3, 3, 1, 3, 3, 3, 3, 2, 2], [3, 3, 2, 3, 2, 2, 3, 3, 3, 2, 3, 3, 3, 3, 2, 3, 1, 3, 3, 3, 3], [3, 3, 2, 2, 3, 3, 3, 3, 3, 3, 3, 3, 3, 3, 3, 3, 3, 3, 2, 3, 3]]\n",
            "Starting with 12500 states\n",
            "Generated 3124 new states\n",
            "Generated 780 new states\n",
            "Generated 194 new states\n",
            "Generated 46 new states\n",
            "Generated 10 new states\n",
            "123456789\n",
            "[[2, 3, 3, 3, 3, 3, 3, 3, 3, 2, 3, 3, 3, 2, 3, 3, 3, 3, 1, 3, 3], [3, 3, 3, 2, 1, 1, 3, 3, 2, 3, 1, 3, 3, 3, 3, 3, 3, 3, 2, 3, 3], [3, 3, 2, 3, 3, 3, 3, 3, 3, 3, 3, 3, 1, 3, 3, 3, 3, 3, 3, 3, 3], [3, 3, 3, 3, 3, 3, 3, 3, 3, 1, 3, 3, 3, 3, 2, 3, 3, 3, 3, 2, 3], [3, 3, 2, 1, 3, 3, 2, 3, 3, 3, 2, 1, 3, 2, 3, 3, 1, 3, 1, 3, 3], [3, 3, 1, 3, 3, 3, 3, 3, 1, 1, 3, 3, 3, 3, 3, 3, 3, 3, 3, 3, 3], [2, 3, 3, 3, 3, 3, 3, 2, 3, 3, 3, 3, 3, 2, 3, 1, 1, 3, 3, 3, 3], [2, 2, 3, 3, 3, 3, 1, 3, 3, 3, 3, 1, 3, 2, 2, 3, 1, 3, 2, 2, 3], [3, 3, 3, 1, 3, 3, 3, 3, 3, 3, 3, 2, 3, 3, 3, 3, 3, 2, 3, 3, 2], [1, 3, 3, 3, 3, 3, 3, 3, 1, 3, 3, 2, 3, 3, 3, 3, 3, 3, 3, 1, 3], [3, 2, 3, 3, 3, 3, 3, 3, 3, 3, 3, 3, 3, 3, 3, 1, 3, 3, 3, 3, 2], [3, 2, 3, 3, 1, 2, 3, 3, 3, 3, 3, 2, 3, 1, 3, 3, 3, 3, 3, 3, 3]]\n",
            "Starting with 12500 states\n",
            "Generated 3124 new states\n",
            "Generated 780 new states\n",
            "Generated 194 new states\n",
            "Generated 46 new states\n",
            "Generated 10 new states\n",
            "26\n",
            "[[3, 3, 2, 3, 3, 1, 3, 3, 3, 3, 3, 3, 2, 3, 3, 2, 3, 3, 3, 3, 3], [3, 3, 3, 3, 3, 3, 1, 2, 2, 2, 2, 3, 3, 3, 3, 3, 2, 1, 3, 3, 3], [2, 3, 3, 3, 2, 1, 3, 3, 3, 3, 3, 2, 2, 3, 3, 3, 2, 3, 3, 3, 3], [2, 3, 3, 3, 3, 3, 2, 3, 3, 3, 2, 2, 3, 3, 3, 2, 3, 3, 3, 3, 3], [3, 2, 3, 2, 3, 2, 3, 2, 3, 3, 3, 2, 2, 1, 3, 2, 3, 3, 2, 3, 3], [3, 1, 3, 1, 3, 3, 3, 2, 3, 3, 3, 1, 3, 3, 2, 3, 2, 3, 3, 3, 2], [3, 3, 3, 3, 3, 3, 3, 3, 3, 3, 3, 1, 3, 3, 2, 3, 2, 2, 3, 3, 1], [3, 3, 3, 1, 3, 3, 1, 3, 3, 3, 3, 3, 2, 3, 3, 3, 1, 3, 3, 2, 3], [2, 3, 2, 1, 3, 3, 1, 2, 1, 3, 2, 3, 2, 3, 3, 3, 3, 3, 1, 3, 3], [2, 2, 3, 2, 3, 2, 3, 3, 1, 3, 3, 3, 3, 3, 1, 3, 1, 3, 2, 3, 3], [3, 2, 3, 2, 3, 3, 1, 3, 2, 3, 3, 3, 3, 1, 3, 3, 3, 3, 2, 3, 3], [3, 2, 3, 3, 3, 3, 3, 2, 3, 3, 3, 3, 1, 3, 1, 2, 3, 3, 2, 3, 3]]\n",
            "Starting with 12500 states\n",
            "Generated 3124 new states\n",
            "Generated 780 new states\n",
            "Generated 194 new states\n",
            "Generated 46 new states\n",
            "Generated 10 new states\n",
            "29\n",
            "[[1, 3, 3, 3, 3, 3, 3, 3, 2, 3, 2, 3, 2, 3, 3, 2, 3, 3, 3, 2, 1], [3, 2, 3, 3, 3, 2, 3, 3, 3, 1, 3, 2, 3, 3, 3, 2, 3, 3, 3, 2, 3], [3, 3, 3, 2, 2, 3, 3, 1, 1, 3, 3, 3, 3, 2, 3, 3, 3, 3, 3, 1, 3], [3, 3, 3, 3, 3, 2, 2, 3, 3, 2, 3, 3, 2, 2, 3, 3, 2, 3, 3, 2, 3], [3, 3, 3, 3, 3, 3, 1, 3, 3, 2, 2, 2, 3, 2, 3, 3, 3, 3, 2, 3, 1], [1, 2, 3, 3, 3, 3, 3, 2, 3, 3, 1, 3, 1, 3, 3, 3, 3, 3, 3, 2, 3], [3, 2, 3, 3, 3, 2, 3, 3, 3, 3, 3, 3, 3, 3, 3, 3, 3, 3, 3, 2, 3], [2, 2, 1, 3, 3, 3, 1, 3, 3, 3, 3, 3, 3, 1, 3, 3, 3, 3, 3, 2, 3], [2, 3, 3, 2, 2, 3, 3, 3, 2, 2, 2, 1, 3, 3, 3, 3, 3, 3, 3, 3, 2], [3, 2, 3, 2, 2, 3, 3, 3, 3, 3, 3, 3, 3, 2, 2, 3, 1, 3, 3, 3, 3], [3, 3, 2, 3, 3, 3, 2, 3, 3, 3, 3, 3, 3, 2, 3, 3, 1, 1, 3, 3, 1], [3, 3, 3, 2, 1, 3, 3, 2, 3, 3, 3, 3, 3, 2, 3, 3, 3, 3, 3, 3, 3]]\n",
            "Starting with 12500 states\n",
            "Generated 3124 new states\n",
            "Generated 780 new states\n",
            "Generated 194 new states\n",
            "Generated 46 new states\n",
            "Generated 10 new states\n",
            "123456789\n",
            "[[2, 3, 2, 1, 3, 1, 3, 3, 2, 3, 1, 3, 3, 1, 3, 3, 3, 1, 3, 2, 2], [3, 3, 3, 3, 3, 3, 1, 3, 3, 3, 3, 3, 3, 3, 1, 3, 1, 3, 3, 1, 3], [2, 3, 3, 3, 3, 1, 3, 2, 3, 3, 2, 3, 3, 3, 3, 3, 3, 3, 2, 3, 3], [2, 3, 2, 2, 2, 3, 3, 3, 3, 2, 1, 2, 3, 2, 3, 3, 1, 3, 3, 3, 3], [2, 2, 3, 3, 3, 3, 3, 3, 3, 3, 3, 3, 3, 1, 3, 3, 2, 3, 3, 2, 3], [3, 2, 2, 3, 1, 3, 1, 3, 3, 3, 3, 3, 3, 3, 3, 3, 3, 3, 3, 3, 2], [3, 3, 3, 3, 2, 2, 3, 3, 3, 3, 3, 2, 3, 3, 3, 3, 3, 3, 1, 3, 3], [1, 3, 3, 3, 3, 1, 1, 3, 3, 3, 3, 2, 2, 3, 3, 3, 1, 3, 3, 2, 2], [3, 2, 3, 2, 3, 3, 3, 3, 3, 2, 3, 3, 2, 3, 3, 3, 3, 3, 2, 3, 3], [1, 3, 3, 3, 3, 1, 3, 3, 3, 3, 3, 3, 3, 2, 3, 1, 3, 2, 3, 3, 3], [1, 3, 3, 3, 1, 1, 3, 3, 2, 3, 3, 2, 3, 3, 3, 2, 3, 1, 3, 3, 3], [3, 3, 3, 2, 3, 1, 3, 3, 2, 2, 3, 2, 3, 3, 1, 3, 2, 3, 3, 2, 3]]\n",
            "Starting with 12500 states\n",
            "Generated 3124 new states\n",
            "Generated 780 new states\n",
            "Generated 194 new states\n",
            "Generated 46 new states\n",
            "Generated 10 new states\n",
            "29\n"
          ]
        }
      ],
      "source": [
        "i=0\n",
        "for req in a:\n",
        "    requests = req\n",
        "    print (requests)\n",
        "    parents = tmp\n",
        "    childs = []\n",
        "    \n",
        "    child = schedule(parents)\n",
        "    sorted_childs = sorted(child, key=fitness)\n",
        "    best_schedual = sorted_childs[0]\n",
        "    print(fitness(best_schedual))\n",
        "    with open(r\"C:\\Users\\rogov\\Desktop\\easy 4 res\\easy_4_res.txt\", 'a') as file:\n",
        "         file.write(str(fitness(best_schedual))+'\\n')\n",
        "    "
      ]
    },
    {
      "cell_type": "code",
      "execution_count": 221,
      "metadata": {},
      "outputs": [
        {
          "name": "stdout",
          "output_type": "stream",
          "text": [
            "Average: 27.516129032258064\n",
            "Count of 2147483647: 19\n"
          ]
        }
      ],
      "source": [
        "def calculate_average(file_path):\n",
        "    numbers = []\n",
        "    count_2147483647 = 0\n",
        "\n",
        "    # Read numbers from the file\n",
        "    with open(file_path, 'r') as file:\n",
        "        for line in file:\n",
        "            number = int(line.strip())\n",
        "            if number == 123456789:\n",
        "                count_2147483647 += 1\n",
        "            else:\n",
        "                numbers.append(number)\n",
        "\n",
        "    # Calculate the average\n",
        "    average = sum(numbers) / len(numbers)\n",
        "\n",
        "    # Print the average and count of occurrences of 2147483647\n",
        "    print(f\"Average: {average}\")\n",
        "    print(f\"Count of 2147483647: {count_2147483647}\")\n",
        "\n",
        "\n",
        "# Specify the path to your input file\n",
        "file_path = '/content/output.txt'\n",
        "\n",
        "# Call the function with the file path\n",
        "calculate_average(r\"C:\\Users\\rogov\\Desktop\\easy 4 res\\easy_4_res.txt\")"
      ]
    }
  ],
  "metadata": {
    "colab": {
      "provenance": []
    },
    "kernelspec": {
      "display_name": "Python 3",
      "name": "python3"
    },
    "language_info": {
      "codemirror_mode": {
        "name": "ipython",
        "version": 3
      },
      "file_extension": ".py",
      "mimetype": "text/x-python",
      "name": "python",
      "nbconvert_exporter": "python",
      "pygments_lexer": "ipython3",
      "version": "3.11.0"
    }
  },
  "nbformat": 4,
  "nbformat_minor": 0
}
